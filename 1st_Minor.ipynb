{
 "cells": [
  {
   "cell_type": "markdown",
   "metadata": {},
   "source": [
    "# WHITE WINE DATASET\n",
    "\n"
   ]
  },
  {
   "cell_type": "raw",
   "metadata": {},
   "source": [
    "# Sources\n",
    "# Created by: Paulo Cortez (Univ. Minho), Antonio Cerdeira, Fernando Almeida, Telmo Matos and Jose Reis (CVRVV)@       2009\n",
    "# https://archive.ics.uci.edu/ml/datasets/Wine+Quality'\n",
    "\n",
    "\n",
    "#   In the above reference, two datasets were created, using red and white wine samples.\n",
    "#   The inputs include objective tests (e.g. PH values) and the output is based on sensory data\n",
    "#   (median of at least 3 evaluations made by wine experts). Each expert graded the wine quality \n",
    "#   between 0 (very bad) and 10 (very excellent). Several data mining methods were applied to model\n",
    "#   these datasets under a regression approach. The support vector machine model achieved the\n",
    "#   best results. Several metrics were computed: MAD, confusion matrix for a fixed error tolerance (T),\n",
    "#   etc. Also, we plot the relative importances of the input variables (as measured by a sensitivity\n",
    "#   analysis procedure).\n",
    " \n",
    "#  Number of Instances: red wine - 1599; white wine - 4898. \n",
    "\n",
    "#  Number of Attributes: 11 + output attribute\n",
    "\n",
    "#    Input variables (based on physicochemical tests):\n",
    "#    1 - fixed acidity\n",
    "#    2 - volatile acidity\n",
    "#    3 - citric acid\n",
    "#    4 - residual sugar\n",
    "#    5 - chlorides\n",
    "#    6 - free sulfur dioxide\n",
    "#    7 - total sulfur dioxide\n",
    "#    8 - density\n",
    "#    9 - pH\n",
    "#    10 - sulphates\n",
    "#    11 - alcohol\n",
    "#    Output variable (based on sensory data): \n",
    "#    12 - quality (score between 0 and 10)\n",
    "\n",
    "# here we need to find the quality of the wine data ...\n",
    "\n",
    "\n"
   ]
  },
  {
   "cell_type": "code",
   "execution_count": 27,
   "metadata": {},
   "outputs": [],
   "source": [
    "import pandas as pd\n",
    "import seaborn as sns\n",
    "import matplotlib.pyplot as plt\n",
    "import numpy as np"
   ]
  },
  {
   "cell_type": "code",
   "execution_count": 28,
   "metadata": {},
   "outputs": [],
   "source": [
    "#!pip install sklearn"
   ]
  },
  {
   "cell_type": "code",
   "execution_count": 29,
   "metadata": {},
   "outputs": [],
   "source": [
    "wine= pd.read_csv(\"winequality-white.csv\")"
   ]
  },
  {
   "cell_type": "markdown",
   "metadata": {},
   "source": [
    "# FEATURE ENGINEERING OF WHITE WINE DATASET"
   ]
  },
  {
   "cell_type": "code",
   "execution_count": 30,
   "metadata": {},
   "outputs": [
    {
     "data": {
      "text/html": [
       "<div>\n",
       "<style scoped>\n",
       "    .dataframe tbody tr th:only-of-type {\n",
       "        vertical-align: middle;\n",
       "    }\n",
       "\n",
       "    .dataframe tbody tr th {\n",
       "        vertical-align: top;\n",
       "    }\n",
       "\n",
       "    .dataframe thead th {\n",
       "        text-align: right;\n",
       "    }\n",
       "</style>\n",
       "<table border=\"1\" class=\"dataframe\">\n",
       "  <thead>\n",
       "    <tr style=\"text-align: right;\">\n",
       "      <th></th>\n",
       "      <th>fixed_acidity</th>\n",
       "      <th>volatile_acidity</th>\n",
       "      <th>citric_acid</th>\n",
       "      <th>residual_sugar</th>\n",
       "      <th>chlorides</th>\n",
       "      <th>free_sulfur_dioxide</th>\n",
       "      <th>total_sulfur_dioxide</th>\n",
       "      <th>density</th>\n",
       "      <th>pH</th>\n",
       "      <th>sulphates</th>\n",
       "      <th>alcohol</th>\n",
       "      <th>quality</th>\n",
       "    </tr>\n",
       "  </thead>\n",
       "  <tbody>\n",
       "    <tr>\n",
       "      <th>0</th>\n",
       "      <td>7.0</td>\n",
       "      <td>0.27</td>\n",
       "      <td>0.36</td>\n",
       "      <td>20.7</td>\n",
       "      <td>0.045</td>\n",
       "      <td>45.0</td>\n",
       "      <td>170.0</td>\n",
       "      <td>1.0010</td>\n",
       "      <td>3.00</td>\n",
       "      <td>0.45</td>\n",
       "      <td>8.8</td>\n",
       "      <td>6</td>\n",
       "    </tr>\n",
       "    <tr>\n",
       "      <th>1</th>\n",
       "      <td>6.3</td>\n",
       "      <td>0.30</td>\n",
       "      <td>0.34</td>\n",
       "      <td>1.6</td>\n",
       "      <td>0.049</td>\n",
       "      <td>14.0</td>\n",
       "      <td>132.0</td>\n",
       "      <td>0.9940</td>\n",
       "      <td>3.30</td>\n",
       "      <td>0.49</td>\n",
       "      <td>9.5</td>\n",
       "      <td>6</td>\n",
       "    </tr>\n",
       "    <tr>\n",
       "      <th>2</th>\n",
       "      <td>8.1</td>\n",
       "      <td>0.28</td>\n",
       "      <td>0.40</td>\n",
       "      <td>6.9</td>\n",
       "      <td>0.050</td>\n",
       "      <td>30.0</td>\n",
       "      <td>97.0</td>\n",
       "      <td>0.9951</td>\n",
       "      <td>3.26</td>\n",
       "      <td>0.44</td>\n",
       "      <td>10.1</td>\n",
       "      <td>6</td>\n",
       "    </tr>\n",
       "    <tr>\n",
       "      <th>3</th>\n",
       "      <td>7.2</td>\n",
       "      <td>0.23</td>\n",
       "      <td>0.32</td>\n",
       "      <td>8.5</td>\n",
       "      <td>0.058</td>\n",
       "      <td>47.0</td>\n",
       "      <td>186.0</td>\n",
       "      <td>0.9956</td>\n",
       "      <td>3.19</td>\n",
       "      <td>0.40</td>\n",
       "      <td>9.9</td>\n",
       "      <td>6</td>\n",
       "    </tr>\n",
       "    <tr>\n",
       "      <th>4</th>\n",
       "      <td>7.2</td>\n",
       "      <td>0.23</td>\n",
       "      <td>0.32</td>\n",
       "      <td>8.5</td>\n",
       "      <td>0.058</td>\n",
       "      <td>47.0</td>\n",
       "      <td>186.0</td>\n",
       "      <td>0.9956</td>\n",
       "      <td>3.19</td>\n",
       "      <td>0.40</td>\n",
       "      <td>9.9</td>\n",
       "      <td>6</td>\n",
       "    </tr>\n",
       "  </tbody>\n",
       "</table>\n",
       "</div>"
      ],
      "text/plain": [
       "   fixed_acidity  volatile_acidity  citric_acid  residual_sugar  chlorides  \\\n",
       "0            7.0              0.27         0.36            20.7      0.045   \n",
       "1            6.3              0.30         0.34             1.6      0.049   \n",
       "2            8.1              0.28         0.40             6.9      0.050   \n",
       "3            7.2              0.23         0.32             8.5      0.058   \n",
       "4            7.2              0.23         0.32             8.5      0.058   \n",
       "\n",
       "   free_sulfur_dioxide  total_sulfur_dioxide  density    pH  sulphates  \\\n",
       "0                 45.0                 170.0   1.0010  3.00       0.45   \n",
       "1                 14.0                 132.0   0.9940  3.30       0.49   \n",
       "2                 30.0                  97.0   0.9951  3.26       0.44   \n",
       "3                 47.0                 186.0   0.9956  3.19       0.40   \n",
       "4                 47.0                 186.0   0.9956  3.19       0.40   \n",
       "\n",
       "   alcohol  quality  \n",
       "0      8.8        6  \n",
       "1      9.5        6  \n",
       "2     10.1        6  \n",
       "3      9.9        6  \n",
       "4      9.9        6  "
      ]
     },
     "execution_count": 30,
     "metadata": {},
     "output_type": "execute_result"
    }
   ],
   "source": [
    "# basic Data Set Analysis \n",
    "wine.head()\n"
   ]
  },
  {
   "cell_type": "code",
   "execution_count": 31,
   "metadata": {},
   "outputs": [
    {
     "data": {
      "text/html": [
       "<div>\n",
       "<style scoped>\n",
       "    .dataframe tbody tr th:only-of-type {\n",
       "        vertical-align: middle;\n",
       "    }\n",
       "\n",
       "    .dataframe tbody tr th {\n",
       "        vertical-align: top;\n",
       "    }\n",
       "\n",
       "    .dataframe thead th {\n",
       "        text-align: right;\n",
       "    }\n",
       "</style>\n",
       "<table border=\"1\" class=\"dataframe\">\n",
       "  <thead>\n",
       "    <tr style=\"text-align: right;\">\n",
       "      <th></th>\n",
       "      <th>fixed_acidity</th>\n",
       "      <th>volatile_acidity</th>\n",
       "      <th>citric_acid</th>\n",
       "      <th>residual_sugar</th>\n",
       "      <th>chlorides</th>\n",
       "      <th>free_sulfur_dioxide</th>\n",
       "      <th>total_sulfur_dioxide</th>\n",
       "      <th>density</th>\n",
       "      <th>pH</th>\n",
       "      <th>sulphates</th>\n",
       "      <th>alcohol</th>\n",
       "      <th>quality</th>\n",
       "    </tr>\n",
       "  </thead>\n",
       "  <tbody>\n",
       "    <tr>\n",
       "      <th>4893</th>\n",
       "      <td>6.2</td>\n",
       "      <td>0.21</td>\n",
       "      <td>0.29</td>\n",
       "      <td>1.6</td>\n",
       "      <td>0.039</td>\n",
       "      <td>24.0</td>\n",
       "      <td>92.0</td>\n",
       "      <td>0.99114</td>\n",
       "      <td>3.27</td>\n",
       "      <td>0.50</td>\n",
       "      <td>11.2</td>\n",
       "      <td>6</td>\n",
       "    </tr>\n",
       "    <tr>\n",
       "      <th>4894</th>\n",
       "      <td>6.6</td>\n",
       "      <td>0.32</td>\n",
       "      <td>0.36</td>\n",
       "      <td>8.0</td>\n",
       "      <td>0.047</td>\n",
       "      <td>57.0</td>\n",
       "      <td>168.0</td>\n",
       "      <td>0.99490</td>\n",
       "      <td>3.15</td>\n",
       "      <td>0.46</td>\n",
       "      <td>9.6</td>\n",
       "      <td>5</td>\n",
       "    </tr>\n",
       "    <tr>\n",
       "      <th>4895</th>\n",
       "      <td>6.5</td>\n",
       "      <td>0.24</td>\n",
       "      <td>0.19</td>\n",
       "      <td>1.2</td>\n",
       "      <td>0.041</td>\n",
       "      <td>30.0</td>\n",
       "      <td>111.0</td>\n",
       "      <td>0.99254</td>\n",
       "      <td>2.99</td>\n",
       "      <td>0.46</td>\n",
       "      <td>9.4</td>\n",
       "      <td>6</td>\n",
       "    </tr>\n",
       "    <tr>\n",
       "      <th>4896</th>\n",
       "      <td>5.5</td>\n",
       "      <td>0.29</td>\n",
       "      <td>0.30</td>\n",
       "      <td>1.1</td>\n",
       "      <td>0.022</td>\n",
       "      <td>20.0</td>\n",
       "      <td>110.0</td>\n",
       "      <td>0.98869</td>\n",
       "      <td>3.34</td>\n",
       "      <td>0.38</td>\n",
       "      <td>12.8</td>\n",
       "      <td>7</td>\n",
       "    </tr>\n",
       "    <tr>\n",
       "      <th>4897</th>\n",
       "      <td>6.0</td>\n",
       "      <td>0.21</td>\n",
       "      <td>0.38</td>\n",
       "      <td>0.8</td>\n",
       "      <td>0.020</td>\n",
       "      <td>22.0</td>\n",
       "      <td>98.0</td>\n",
       "      <td>0.98941</td>\n",
       "      <td>3.26</td>\n",
       "      <td>0.32</td>\n",
       "      <td>11.8</td>\n",
       "      <td>6</td>\n",
       "    </tr>\n",
       "  </tbody>\n",
       "</table>\n",
       "</div>"
      ],
      "text/plain": [
       "      fixed_acidity  volatile_acidity  citric_acid  residual_sugar  chlorides  \\\n",
       "4893            6.2              0.21         0.29             1.6      0.039   \n",
       "4894            6.6              0.32         0.36             8.0      0.047   \n",
       "4895            6.5              0.24         0.19             1.2      0.041   \n",
       "4896            5.5              0.29         0.30             1.1      0.022   \n",
       "4897            6.0              0.21         0.38             0.8      0.020   \n",
       "\n",
       "      free_sulfur_dioxide  total_sulfur_dioxide  density    pH  sulphates  \\\n",
       "4893                 24.0                  92.0  0.99114  3.27       0.50   \n",
       "4894                 57.0                 168.0  0.99490  3.15       0.46   \n",
       "4895                 30.0                 111.0  0.99254  2.99       0.46   \n",
       "4896                 20.0                 110.0  0.98869  3.34       0.38   \n",
       "4897                 22.0                  98.0  0.98941  3.26       0.32   \n",
       "\n",
       "      alcohol  quality  \n",
       "4893     11.2        6  \n",
       "4894      9.6        5  \n",
       "4895      9.4        6  \n",
       "4896     12.8        7  \n",
       "4897     11.8        6  "
      ]
     },
     "execution_count": 31,
     "metadata": {},
     "output_type": "execute_result"
    }
   ],
   "source": [
    "wine.tail()"
   ]
  },
  {
   "cell_type": "code",
   "execution_count": 32,
   "metadata": {},
   "outputs": [
    {
     "data": {
      "text/html": [
       "<div>\n",
       "<style scoped>\n",
       "    .dataframe tbody tr th:only-of-type {\n",
       "        vertical-align: middle;\n",
       "    }\n",
       "\n",
       "    .dataframe tbody tr th {\n",
       "        vertical-align: top;\n",
       "    }\n",
       "\n",
       "    .dataframe thead th {\n",
       "        text-align: right;\n",
       "    }\n",
       "</style>\n",
       "<table border=\"1\" class=\"dataframe\">\n",
       "  <thead>\n",
       "    <tr style=\"text-align: right;\">\n",
       "      <th></th>\n",
       "      <th>fixed_acidity</th>\n",
       "      <th>volatile_acidity</th>\n",
       "      <th>citric_acid</th>\n",
       "      <th>residual_sugar</th>\n",
       "      <th>chlorides</th>\n",
       "      <th>free_sulfur_dioxide</th>\n",
       "      <th>total_sulfur_dioxide</th>\n",
       "      <th>density</th>\n",
       "      <th>pH</th>\n",
       "      <th>sulphates</th>\n",
       "      <th>alcohol</th>\n",
       "      <th>quality</th>\n",
       "    </tr>\n",
       "  </thead>\n",
       "  <tbody>\n",
       "    <tr>\n",
       "      <th>count</th>\n",
       "      <td>4898.000000</td>\n",
       "      <td>4898.000000</td>\n",
       "      <td>4898.000000</td>\n",
       "      <td>4898.000000</td>\n",
       "      <td>4898.000000</td>\n",
       "      <td>4898.000000</td>\n",
       "      <td>4898.000000</td>\n",
       "      <td>4898.000000</td>\n",
       "      <td>4898.000000</td>\n",
       "      <td>4898.000000</td>\n",
       "      <td>4898.000000</td>\n",
       "      <td>4898.000000</td>\n",
       "    </tr>\n",
       "    <tr>\n",
       "      <th>mean</th>\n",
       "      <td>6.854788</td>\n",
       "      <td>0.278241</td>\n",
       "      <td>0.334192</td>\n",
       "      <td>6.391415</td>\n",
       "      <td>0.045772</td>\n",
       "      <td>35.308085</td>\n",
       "      <td>138.360657</td>\n",
       "      <td>0.994027</td>\n",
       "      <td>3.188267</td>\n",
       "      <td>0.489847</td>\n",
       "      <td>10.514267</td>\n",
       "      <td>5.877909</td>\n",
       "    </tr>\n",
       "    <tr>\n",
       "      <th>std</th>\n",
       "      <td>0.843868</td>\n",
       "      <td>0.100795</td>\n",
       "      <td>0.121020</td>\n",
       "      <td>5.072058</td>\n",
       "      <td>0.021848</td>\n",
       "      <td>17.007137</td>\n",
       "      <td>42.498065</td>\n",
       "      <td>0.002991</td>\n",
       "      <td>0.151001</td>\n",
       "      <td>0.114126</td>\n",
       "      <td>1.230621</td>\n",
       "      <td>0.885639</td>\n",
       "    </tr>\n",
       "    <tr>\n",
       "      <th>min</th>\n",
       "      <td>3.800000</td>\n",
       "      <td>0.080000</td>\n",
       "      <td>0.000000</td>\n",
       "      <td>0.600000</td>\n",
       "      <td>0.009000</td>\n",
       "      <td>2.000000</td>\n",
       "      <td>9.000000</td>\n",
       "      <td>0.987110</td>\n",
       "      <td>2.720000</td>\n",
       "      <td>0.220000</td>\n",
       "      <td>8.000000</td>\n",
       "      <td>3.000000</td>\n",
       "    </tr>\n",
       "    <tr>\n",
       "      <th>25%</th>\n",
       "      <td>6.300000</td>\n",
       "      <td>0.210000</td>\n",
       "      <td>0.270000</td>\n",
       "      <td>1.700000</td>\n",
       "      <td>0.036000</td>\n",
       "      <td>23.000000</td>\n",
       "      <td>108.000000</td>\n",
       "      <td>0.991723</td>\n",
       "      <td>3.090000</td>\n",
       "      <td>0.410000</td>\n",
       "      <td>9.500000</td>\n",
       "      <td>5.000000</td>\n",
       "    </tr>\n",
       "    <tr>\n",
       "      <th>50%</th>\n",
       "      <td>6.800000</td>\n",
       "      <td>0.260000</td>\n",
       "      <td>0.320000</td>\n",
       "      <td>5.200000</td>\n",
       "      <td>0.043000</td>\n",
       "      <td>34.000000</td>\n",
       "      <td>134.000000</td>\n",
       "      <td>0.993740</td>\n",
       "      <td>3.180000</td>\n",
       "      <td>0.470000</td>\n",
       "      <td>10.400000</td>\n",
       "      <td>6.000000</td>\n",
       "    </tr>\n",
       "    <tr>\n",
       "      <th>75%</th>\n",
       "      <td>7.300000</td>\n",
       "      <td>0.320000</td>\n",
       "      <td>0.390000</td>\n",
       "      <td>9.900000</td>\n",
       "      <td>0.050000</td>\n",
       "      <td>46.000000</td>\n",
       "      <td>167.000000</td>\n",
       "      <td>0.996100</td>\n",
       "      <td>3.280000</td>\n",
       "      <td>0.550000</td>\n",
       "      <td>11.400000</td>\n",
       "      <td>6.000000</td>\n",
       "    </tr>\n",
       "    <tr>\n",
       "      <th>max</th>\n",
       "      <td>14.200000</td>\n",
       "      <td>1.100000</td>\n",
       "      <td>1.660000</td>\n",
       "      <td>65.800000</td>\n",
       "      <td>0.346000</td>\n",
       "      <td>289.000000</td>\n",
       "      <td>440.000000</td>\n",
       "      <td>1.038980</td>\n",
       "      <td>3.820000</td>\n",
       "      <td>1.080000</td>\n",
       "      <td>14.200000</td>\n",
       "      <td>9.000000</td>\n",
       "    </tr>\n",
       "  </tbody>\n",
       "</table>\n",
       "</div>"
      ],
      "text/plain": [
       "       fixed_acidity  volatile_acidity  citric_acid  residual_sugar  \\\n",
       "count    4898.000000       4898.000000  4898.000000     4898.000000   \n",
       "mean        6.854788          0.278241     0.334192        6.391415   \n",
       "std         0.843868          0.100795     0.121020        5.072058   \n",
       "min         3.800000          0.080000     0.000000        0.600000   \n",
       "25%         6.300000          0.210000     0.270000        1.700000   \n",
       "50%         6.800000          0.260000     0.320000        5.200000   \n",
       "75%         7.300000          0.320000     0.390000        9.900000   \n",
       "max        14.200000          1.100000     1.660000       65.800000   \n",
       "\n",
       "         chlorides  free_sulfur_dioxide  total_sulfur_dioxide      density  \\\n",
       "count  4898.000000          4898.000000           4898.000000  4898.000000   \n",
       "mean      0.045772            35.308085            138.360657     0.994027   \n",
       "std       0.021848            17.007137             42.498065     0.002991   \n",
       "min       0.009000             2.000000              9.000000     0.987110   \n",
       "25%       0.036000            23.000000            108.000000     0.991723   \n",
       "50%       0.043000            34.000000            134.000000     0.993740   \n",
       "75%       0.050000            46.000000            167.000000     0.996100   \n",
       "max       0.346000           289.000000            440.000000     1.038980   \n",
       "\n",
       "                pH    sulphates      alcohol      quality  \n",
       "count  4898.000000  4898.000000  4898.000000  4898.000000  \n",
       "mean      3.188267     0.489847    10.514267     5.877909  \n",
       "std       0.151001     0.114126     1.230621     0.885639  \n",
       "min       2.720000     0.220000     8.000000     3.000000  \n",
       "25%       3.090000     0.410000     9.500000     5.000000  \n",
       "50%       3.180000     0.470000    10.400000     6.000000  \n",
       "75%       3.280000     0.550000    11.400000     6.000000  \n",
       "max       3.820000     1.080000    14.200000     9.000000  "
      ]
     },
     "execution_count": 32,
     "metadata": {},
     "output_type": "execute_result"
    }
   ],
   "source": [
    "wine.describe()"
   ]
  },
  {
   "cell_type": "code",
   "execution_count": 33,
   "metadata": {},
   "outputs": [
    {
     "name": "stdout",
     "output_type": "stream",
     "text": [
      "<class 'pandas.core.frame.DataFrame'>\n",
      "RangeIndex: 4898 entries, 0 to 4897\n",
      "Data columns (total 12 columns):\n",
      " #   Column                Non-Null Count  Dtype  \n",
      "---  ------                --------------  -----  \n",
      " 0   fixed_acidity         4898 non-null   float64\n",
      " 1   volatile_acidity      4898 non-null   float64\n",
      " 2   citric_acid           4898 non-null   float64\n",
      " 3   residual_sugar        4898 non-null   float64\n",
      " 4   chlorides             4898 non-null   float64\n",
      " 5   free_sulfur_dioxide   4898 non-null   float64\n",
      " 6   total_sulfur_dioxide  4898 non-null   float64\n",
      " 7   density               4898 non-null   float64\n",
      " 8   pH                    4898 non-null   float64\n",
      " 9   sulphates             4898 non-null   float64\n",
      " 10  alcohol               4898 non-null   float64\n",
      " 11  quality               4898 non-null   int64  \n",
      "dtypes: float64(11), int64(1)\n",
      "memory usage: 459.3 KB\n"
     ]
    }
   ],
   "source": [
    "wine.info()"
   ]
  },
  {
   "cell_type": "code",
   "execution_count": 34,
   "metadata": {},
   "outputs": [
    {
     "data": {
      "text/plain": [
       "(4898, 12)"
      ]
     },
     "execution_count": 34,
     "metadata": {},
     "output_type": "execute_result"
    }
   ],
   "source": [
    "wine.shape"
   ]
  },
  {
   "cell_type": "code",
   "execution_count": 35,
   "metadata": {},
   "outputs": [
    {
     "data": {
      "text/plain": [
       "fixed_acidity           0\n",
       "volatile_acidity        0\n",
       "citric_acid             0\n",
       "residual_sugar          0\n",
       "chlorides               0\n",
       "free_sulfur_dioxide     0\n",
       "total_sulfur_dioxide    0\n",
       "density                 0\n",
       "pH                      0\n",
       "sulphates               0\n",
       "alcohol                 0\n",
       "quality                 0\n",
       "dtype: int64"
      ]
     },
     "execution_count": 35,
     "metadata": {},
     "output_type": "execute_result"
    }
   ],
   "source": [
    "wine.isnull().sum()"
   ]
  },
  {
   "cell_type": "code",
   "execution_count": 36,
   "metadata": {},
   "outputs": [
    {
     "data": {
      "text/plain": [
       "<AxesSubplot:>"
      ]
     },
     "execution_count": 36,
     "metadata": {},
     "output_type": "execute_result"
    },
    {
     "data": {
      "image/png": "[encoded data removed]",
      "text/plain": [
       "<Figure size 432x288 with 1 Axes>"
      ]
     },
     "metadata": {
      "needs_background": "light"
     },
     "output_type": "display_data"
    }
   ],
   "source": [
    "wine.plot()"
   ]
  },
  {
   "cell_type": "code",
   "execution_count": 37,
   "metadata": {},
   "outputs": [
    {
     "data": {
      "text/plain": [
       "<pandas.plotting._core.PlotAccessor object at 0x00000142996B3550>"
      ]
     },
     "execution_count": 37,
     "metadata": {},
     "output_type": "execute_result"
    }
   ],
   "source": [
    "wine[\"quality\"].plot"
   ]
  },
  {
   "cell_type": "code",
   "execution_count": 38,
   "metadata": {},
   "outputs": [],
   "source": [
    "#Make a correlation diagram\n",
    "#corr = df.corr()\n",
    "\n",
    "#ax = sns.heatmap(corr,vmin=-1, vmax=1, center=0,cmap=sns.diverging_palette(20, 220, n=200),square=True)\n",
    "\n",
    "#ax.set_xticklabels(ax.get_xticklabels(),rotation=45,horizontalalignment='right')"
   ]
  },
  {
   "cell_type": "code",
   "execution_count": 39,
   "metadata": {},
   "outputs": [
    {
     "data": {
      "text/plain": [
       "array([6, 5, 7, 8, 4, 3, 9], dtype=int64)"
      ]
     },
     "execution_count": 39,
     "metadata": {},
     "output_type": "execute_result"
    }
   ],
   "source": [
    "wine.quality.unique()"
   ]
  },
  {
   "cell_type": "code",
   "execution_count": 40,
   "metadata": {},
   "outputs": [],
   "source": [
    "# as we can see the quality of the wine lies from 3,4,5,6,7,8,9."
   ]
  },
  {
   "cell_type": "code",
   "execution_count": 41,
   "metadata": {},
   "outputs": [],
   "source": [
    "# Dividing the (QUALITY)in terms of the \"BAD\", \"MEDIUM\" , \"HIGH\" of the quality \n",
    "# 3,4 ----> BAD\n",
    "# 5,6,7-----> MEDIUM\n",
    "# 8,9 --------> GOOD\n",
    "\n",
    "# conversition of the labels is essential to get the best accuracy of each models \n",
    "#  or else the performance will be below 60 for below models but still its in accurate."
   ]
  },
  {
   "cell_type": "code",
   "execution_count": 42,
   "metadata": {},
   "outputs": [
    {
     "data": {
      "text/html": [
       "<div>\n",
       "<style scoped>\n",
       "    .dataframe tbody tr th:only-of-type {\n",
       "        vertical-align: middle;\n",
       "    }\n",
       "\n",
       "    .dataframe tbody tr th {\n",
       "        vertical-align: top;\n",
       "    }\n",
       "\n",
       "    .dataframe thead th {\n",
       "        text-align: right;\n",
       "    }\n",
       "</style>\n",
       "<table border=\"1\" class=\"dataframe\">\n",
       "  <thead>\n",
       "    <tr style=\"text-align: right;\">\n",
       "      <th></th>\n",
       "      <th>fixed_acidity</th>\n",
       "      <th>volatile_acidity</th>\n",
       "      <th>citric_acid</th>\n",
       "      <th>residual_sugar</th>\n",
       "      <th>chlorides</th>\n",
       "      <th>free_sulfur_dioxide</th>\n",
       "      <th>total_sulfur_dioxide</th>\n",
       "      <th>density</th>\n",
       "      <th>pH</th>\n",
       "      <th>sulphates</th>\n",
       "      <th>alcohol</th>\n",
       "      <th>quality</th>\n",
       "    </tr>\n",
       "  </thead>\n",
       "  <tbody>\n",
       "    <tr>\n",
       "      <th>0</th>\n",
       "      <td>7.0</td>\n",
       "      <td>0.27</td>\n",
       "      <td>0.36</td>\n",
       "      <td>20.7</td>\n",
       "      <td>0.045</td>\n",
       "      <td>45.0</td>\n",
       "      <td>170.0</td>\n",
       "      <td>1.0010</td>\n",
       "      <td>3.00</td>\n",
       "      <td>0.45</td>\n",
       "      <td>8.8</td>\n",
       "      <td>Medium</td>\n",
       "    </tr>\n",
       "    <tr>\n",
       "      <th>1</th>\n",
       "      <td>6.3</td>\n",
       "      <td>0.30</td>\n",
       "      <td>0.34</td>\n",
       "      <td>1.6</td>\n",
       "      <td>0.049</td>\n",
       "      <td>14.0</td>\n",
       "      <td>132.0</td>\n",
       "      <td>0.9940</td>\n",
       "      <td>3.30</td>\n",
       "      <td>0.49</td>\n",
       "      <td>9.5</td>\n",
       "      <td>Medium</td>\n",
       "    </tr>\n",
       "    <tr>\n",
       "      <th>2</th>\n",
       "      <td>8.1</td>\n",
       "      <td>0.28</td>\n",
       "      <td>0.40</td>\n",
       "      <td>6.9</td>\n",
       "      <td>0.050</td>\n",
       "      <td>30.0</td>\n",
       "      <td>97.0</td>\n",
       "      <td>0.9951</td>\n",
       "      <td>3.26</td>\n",
       "      <td>0.44</td>\n",
       "      <td>10.1</td>\n",
       "      <td>Medium</td>\n",
       "    </tr>\n",
       "    <tr>\n",
       "      <th>3</th>\n",
       "      <td>7.2</td>\n",
       "      <td>0.23</td>\n",
       "      <td>0.32</td>\n",
       "      <td>8.5</td>\n",
       "      <td>0.058</td>\n",
       "      <td>47.0</td>\n",
       "      <td>186.0</td>\n",
       "      <td>0.9956</td>\n",
       "      <td>3.19</td>\n",
       "      <td>0.40</td>\n",
       "      <td>9.9</td>\n",
       "      <td>Medium</td>\n",
       "    </tr>\n",
       "    <tr>\n",
       "      <th>4</th>\n",
       "      <td>7.2</td>\n",
       "      <td>0.23</td>\n",
       "      <td>0.32</td>\n",
       "      <td>8.5</td>\n",
       "      <td>0.058</td>\n",
       "      <td>47.0</td>\n",
       "      <td>186.0</td>\n",
       "      <td>0.9956</td>\n",
       "      <td>3.19</td>\n",
       "      <td>0.40</td>\n",
       "      <td>9.9</td>\n",
       "      <td>Medium</td>\n",
       "    </tr>\n",
       "  </tbody>\n",
       "</table>\n",
       "</div>"
      ],
      "text/plain": [
       "   fixed_acidity  volatile_acidity  citric_acid  residual_sugar  chlorides  \\\n",
       "0            7.0              0.27         0.36            20.7      0.045   \n",
       "1            6.3              0.30         0.34             1.6      0.049   \n",
       "2            8.1              0.28         0.40             6.9      0.050   \n",
       "3            7.2              0.23         0.32             8.5      0.058   \n",
       "4            7.2              0.23         0.32             8.5      0.058   \n",
       "\n",
       "   free_sulfur_dioxide  total_sulfur_dioxide  density    pH  sulphates  \\\n",
       "0                 45.0                 170.0   1.0010  3.00       0.45   \n",
       "1                 14.0                 132.0   0.9940  3.30       0.49   \n",
       "2                 30.0                  97.0   0.9951  3.26       0.44   \n",
       "3                 47.0                 186.0   0.9956  3.19       0.40   \n",
       "4                 47.0                 186.0   0.9956  3.19       0.40   \n",
       "\n",
       "   alcohol quality  \n",
       "0      8.8  Medium  \n",
       "1      9.5  Medium  \n",
       "2     10.1  Medium  \n",
       "3      9.9  Medium  \n",
       "4      9.9  Medium  "
      ]
     },
     "execution_count": 42,
     "metadata": {},
     "output_type": "execute_result"
    }
   ],
   "source": [
    "wine_quality=['Bad','Medium','Good']\n",
    "wine['quality']=pd.cut(wine['quality'],bins =(2,4.9,7.9,9), labels = wine_quality)# here we split the data from 2 to 4.9 as Medim\n",
    "# above 5 till 7.9 as medium, above 8 till 9 as High.\n",
    "wine.head(5)"
   ]
  },
  {
   "cell_type": "code",
   "execution_count": 43,
   "metadata": {},
   "outputs": [
    {
     "data": {
      "text/plain": [
       "['Medium', 'Good', 'Bad']\n",
       "Categories (3, object): ['Bad' < 'Medium' < 'Good']"
      ]
     },
     "execution_count": 43,
     "metadata": {},
     "output_type": "execute_result"
    }
   ],
   "source": [
    "wine.quality.unique() # now the categories has been setted, \n",
    "#if we are not categgorizing the dependent column then the model performamce will decline if we feed RAW data."
   ]
  },
  {
   "cell_type": "code",
   "execution_count": 44,
   "metadata": {},
   "outputs": [],
   "source": [
    "#print(x_train[:1])"
   ]
  },
  {
   "cell_type": "code",
   "execution_count": 45,
   "metadata": {},
   "outputs": [],
   "source": [
    "#print(x_test[:1])"
   ]
  },
  {
   "cell_type": "code",
   "execution_count": 46,
   "metadata": {},
   "outputs": [],
   "source": [
    "# defining Dependent(X1_train, X1_test) and Independent variable (Y1_Train, Y1_Test) "
   ]
  },
  {
   "cell_type": "code",
   "execution_count": 47,
   "metadata": {},
   "outputs": [],
   "source": [
    "from sklearn.model_selection import train_test_split"
   ]
  },
  {
   "cell_type": "code",
   "execution_count": 48,
   "metadata": {},
   "outputs": [
    {
     "name": "stdout",
     "output_type": "stream",
     "text": [
      "X1-Train Shape:  (3183, 11) \n",
      "Y1-Train Shape(Dependent): (3183,)\n",
      "X1-Test Shape:  (1715, 11) \n",
      "Y1-Test Shape(Dependent): (1715,)\n"
     ]
    }
   ],
   "source": [
    "x1=wine[['fixed_acidity','volatile_acidity','citric_acid','residual_sugar','chlorides','free_sulfur_dioxide','total_sulfur_dioxide','density','pH','sulphates','alcohol']]\n",
    "y1= wine[\"quality\"]\n",
    "#x1_test=wine[['fixed_acidity','volatile_acidity','citric_acid','residual_sugar','chlorides','free_sulfur_dioxide','total_sulfur_dioxide','density','pH','sulphates','alcohol']]\n",
    "#y1_test= wine[\"quality\"]\n",
    "\n",
    "\n",
    "\n",
    "x1_train, x1_test, y1_train, y1_test = train_test_split(x1,y1,test_size=0.35, shuffle= True)\n",
    "print(\"X1-Train Shape: \", x1_train.shape,'\\n' \"Y1-Train Shape(Dependent):\", y1_train.shape)\n",
    "print(\"X1-Test Shape: \", x1_test.shape,'\\n' \"Y1-Test Shape(Dependent):\", y1_test.shape)"
   ]
  },
  {
   "cell_type": "code",
   "execution_count": 49,
   "metadata": {},
   "outputs": [
    {
     "name": "stdout",
     "output_type": "stream",
     "text": [
      "     fixed_acidity  volatile_acidity  citric_acid  residual_sugar  chlorides  \\\n",
      "265            6.9              0.29          0.4           19.45      0.043   \n",
      "\n",
      "     free_sulfur_dioxide  total_sulfur_dioxide  density    pH  sulphates  \\\n",
      "265                 36.0                 156.0   0.9996  2.93       0.47   \n",
      "\n",
      "     alcohol  \n",
      "265      8.9  \n"
     ]
    }
   ],
   "source": [
    "print(x1_train[:1])"
   ]
  },
  {
   "cell_type": "code",
   "execution_count": 50,
   "metadata": {},
   "outputs": [],
   "source": [
    "# Normalizing the dataset \n",
    "from sklearn.preprocessing import StandardScaler \n",
    "scaler = StandardScaler() \n",
    "scaler.fit(x1_train) \n",
    "scaler.fit(x1_test)\n",
    "x1_train = scaler.transform(x1_train) \n",
    "x1_test = scaler.transform(x1_test)"
   ]
  },
  {
   "cell_type": "code",
   "execution_count": 51,
   "metadata": {},
   "outputs": [
    {
     "name": "stdout",
     "output_type": "stream",
     "text": [
      "[[ 0.06255687  0.10007244  0.54210435  2.5954658  -0.12731206  0.06449347\n",
      "   0.41667235  1.90144381 -1.79511258 -0.20559377 -1.32528918]]\n"
     ]
    }
   ],
   "source": [
    "print(x1_train[:1])"
   ]
  },
  {
   "cell_type": "markdown",
   "metadata": {},
   "source": [
    "# Modelling using Logistic Regression, SVM, Random Forest, Neural Network. \n"
   ]
  },
  {
   "cell_type": "markdown",
   "metadata": {},
   "source": [
    "# Logisic Regression ."
   ]
  },
  {
   "cell_type": "code",
   "execution_count": null,
   "metadata": {},
   "outputs": [],
   "source": [
    "# STRENGTH : Logistic regression is easier to implement, interpret, and very efficient to train.\n",
    "\n",
    "# WEAKNESS: constructs linear boundaries, requires average or no multicollinearity between independent variables\n",
    "\n"
   ]
  },
  {
   "cell_type": "code",
   "execution_count": 52,
   "metadata": {},
   "outputs": [],
   "source": [
    "from sklearn.linear_model import LogisticRegression\n",
    "from sklearn.metrics import accuracy_score, classification_report, precision_score, recall_score, confusion_matrix, roc_auc_score"
   ]
  },
  {
   "cell_type": "code",
   "execution_count": 53,
   "metadata": {},
   "outputs": [],
   "source": [
    "\n",
    "from sklearn.metrics import mean_absolute_error\n",
    "from sklearn.metrics import r2_score\n",
    "from sklearn.metrics import mean_squared_error "
   ]
  },
  {
   "cell_type": "code",
   "execution_count": 54,
   "metadata": {},
   "outputs": [
    {
     "data": {
      "text/plain": [
       "0.9282798833819242"
      ]
     },
     "execution_count": 54,
     "metadata": {},
     "output_type": "execute_result"
    }
   ],
   "source": [
    "model1 = LogisticRegression(solver='liblinear', C=10.0, random_state=8)\n",
    "model1.fit(x1_train, y1_train)\n",
    "lr_predict= model1.predict(x1_test)\n",
    "acc = accuracy_score(y1_test, lr_predict)\n",
    "acc"
   ]
  },
  {
   "cell_type": "code",
   "execution_count": 55,
   "metadata": {},
   "outputs": [
    {
     "name": "stderr",
     "output_type": "stream",
     "text": [
      "C:\\Users\\ftobi\\anaconda3\\lib\\site-packages\\sklearn\\metrics\\_classification.py:1245: UndefinedMetricWarning: Precision and F-score are ill-defined and being set to 0.0 in labels with no predicted samples. Use `zero_division` parameter to control this behavior.\n",
      "  _warn_prf(average, modifier, msg_start, len(result))\n",
      "C:\\Users\\ftobi\\anaconda3\\lib\\site-packages\\sklearn\\metrics\\_classification.py:1245: UndefinedMetricWarning: Precision and F-score are ill-defined and being set to 0.0 in labels with no predicted samples. Use `zero_division` parameter to control this behavior.\n",
      "  _warn_prf(average, modifier, msg_start, len(result))\n",
      "C:\\Users\\ftobi\\anaconda3\\lib\\site-packages\\sklearn\\metrics\\_classification.py:1245: UndefinedMetricWarning: Precision and F-score are ill-defined and being set to 0.0 in labels with no predicted samples. Use `zero_division` parameter to control this behavior.\n",
      "  _warn_prf(average, modifier, msg_start, len(result))\n"
     ]
    }
   ],
   "source": [
    "\n",
    "conf_m = confusion_matrix(y1_test,lr_predict )\n",
    "report = classification_report(y1_test,lr_predict )"
   ]
  },
  {
   "cell_type": "code",
   "execution_count": 56,
   "metadata": {},
   "outputs": [],
   "source": [
    "# from the Linear Regression we can see there is a Big improvement upto 0.44 \n",
    "#and we will continiously run with further other models "
   ]
  },
  {
   "cell_type": "code",
   "execution_count": null,
   "metadata": {},
   "outputs": [],
   "source": [
    "# Good performance based on the liblinear solver with acuraccy of .92"
   ]
  },
  {
   "cell_type": "code",
   "execution_count": 57,
   "metadata": {
    "scrolled": true
   },
   "outputs": [],
   "source": [
    "#pip install scikit-learn -U"
   ]
  },
  {
   "cell_type": "markdown",
   "metadata": {},
   "source": [
    "# Clustering - KNN. \n",
    "#KNN\n",
    "#https://stackabuse.com/k-nearest-neighbors-algorithm-in-python-and-scikit-learn/"
   ]
  },
  {
   "cell_type": "code",
   "execution_count": null,
   "metadata": {},
   "outputs": [],
   "source": [
    "# STRENGTH \n",
    "\n",
    "#K-NN algorithm is very simple to understand and equally easy to implement. \n",
    "#To classify the new data point K-NN algorithm reads through whole dataset to find out K nearest neighbors.\n",
    "\n",
    "# WEAKNESS:\n",
    "\n",
    "# k-NN doesn’t perform well on imbalanced data. If we consider two classes, A and B, and the majority of the training data is labeled as A, then the model will ultimately give a lot of preference to A. \n",
    "# This might result in getting the less common class B wrongly classified"
   ]
  },
  {
   "cell_type": "code",
   "execution_count": 58,
   "metadata": {},
   "outputs": [],
   "source": [
    "from sklearn.neighbors import KNeighborsClassifier\n",
    "from sklearn import metrics"
   ]
  },
  {
   "cell_type": "code",
   "execution_count": 59,
   "metadata": {},
   "outputs": [],
   "source": [
    "# Knn- First Model"
   ]
  },
  {
   "cell_type": "code",
   "execution_count": 60,
   "metadata": {},
   "outputs": [
    {
     "data": {
      "text/plain": [
       "KNeighborsClassifier()"
      ]
     },
     "execution_count": 60,
     "metadata": {},
     "output_type": "execute_result"
    }
   ],
   "source": [
    "classifier = KNeighborsClassifier(n_neighbors=5)\n",
    "classifier.fit(x1_train,y1_train)"
   ]
  },
  {
   "cell_type": "code",
   "execution_count": 61,
   "metadata": {},
   "outputs": [],
   "source": [
    "kn_predict =classifier.predict(x1_test)"
   ]
  },
  {
   "cell_type": "code",
   "execution_count": 62,
   "metadata": {},
   "outputs": [
    {
     "name": "stdout",
     "output_type": "stream",
     "text": [
      "Knn-First Model with Neighbors=5 : 0.9282798833819242\n"
     ]
    }
   ],
   "source": [
    "print(\"Knn-First Model with Neighbors=5 :\",metrics.accuracy_score(y1_test,kn_predict))"
   ]
  },
  {
   "cell_type": "code",
   "execution_count": 63,
   "metadata": {},
   "outputs": [
    {
     "name": "stdout",
     "output_type": "stream",
     "text": [
      "Knn-First Model with Neighbors=5\n",
      "[[   5    0   53]\n",
      " [   0    9   57]\n",
      " [   6    7 1578]]\n",
      "              precision    recall  f1-score   support\n",
      "\n",
      "         Bad       0.45      0.09      0.14        58\n",
      "        Good       0.56      0.14      0.22        66\n",
      "      Medium       0.93      0.99      0.96      1591\n",
      "\n",
      "    accuracy                           0.93      1715\n",
      "   macro avg       0.65      0.40      0.44      1715\n",
      "weighted avg       0.90      0.93      0.91      1715\n",
      "\n"
     ]
    }
   ],
   "source": [
    "print(\"Knn-First Model with Neighbors=5\")\n",
    "print(confusion_matrix(y1_test,kn_predict))\n",
    "print(classification_report(y1_test,kn_predict))"
   ]
  },
  {
   "cell_type": "code",
   "execution_count": 64,
   "metadata": {
    "scrolled": true
   },
   "outputs": [
    {
     "data": {
      "text/plain": [
       "Text(0, 0.5, 'Mean Error')"
      ]
     },
     "execution_count": 64,
     "metadata": {},
     "output_type": "execute_result"
    },
    {
     "data": {
      "image/png": "[encoded data removed]",
      "text/plain": [
       "<Figure size 864x432 with 1 Axes>"
      ]
     },
     "metadata": {
      "needs_background": "light"
     },
     "output_type": "display_data"
    }
   ],
   "source": [
    "import numpy as np\n",
    "from sklearn.neighbors import KNeighborsClassifier\n",
    "error = []   \n",
    "# Calculating error for K values between 1 and 5\n",
    "for i in range(1, 5): \n",
    "    knn = KNeighborsClassifier(n_neighbors=i) \n",
    "    knn.fit(x1_train, y1_train) \n",
    "    pred_i = knn.predict(x1_test) \n",
    "    error.append(np.mean(pred_i != y1_test))\n",
    "    \n",
    "plt.figure(figsize=(12, 6)) \n",
    "plt.plot(range(1, 5), error, color='red', linestyle='dashed', marker='o', markerfacecolor='blue', markersize=10) \n",
    "plt.title('Error Rate Vs K-Value from 1 to 5') \n",
    "plt.xlabel('K Value') \n",
    "plt.ylabel('Mean Error')   "
   ]
  },
  {
   "cell_type": "code",
   "execution_count": 65,
   "metadata": {},
   "outputs": [
    {
     "name": "stdout",
     "output_type": "stream",
     "text": [
      "Accuracy Score, when K=  1 : 0.9078717201166181\n",
      "Accuracy Score, when K=  2 : 0.8717201166180758\n",
      "Accuracy Score, when K=  3 : 0.9206997084548105\n",
      "Accuracy Score, when K=  4 : 0.9107871720116618\n",
      "Accuracy Score, when K=  5 : 0.9282798833819242\n",
      "Accuracy Score, when K=  6 : 0.9253644314868804\n",
      "Accuracy Score, when K=  7 : 0.9271137026239067\n",
      "Accuracy Score, when K=  8 : 0.921865889212828\n",
      "Accuracy Score, when K=  9 : 0.9259475218658892\n",
      "Accuracy Score, when K=  10 : 0.9253644314868804\n",
      "Accuracy Score, when K=  11 : 0.926530612244898\n",
      "Accuracy Score, when K=  12 : 0.926530612244898\n",
      "Accuracy Score, when K=  13 : 0.926530612244898\n",
      "Accuracy Score, when K=  14 : 0.926530612244898\n",
      "Accuracy Score, when K=  15 : 0.9271137026239067\n",
      "Accuracy Score, when K=  16 : 0.9271137026239067\n",
      "Accuracy Score, when K=  17 : 0.9276967930029154\n",
      "Accuracy Score, when K=  18 : 0.9276967930029154\n",
      "Accuracy Score, when K=  19 : 0.9282798833819242\n",
      "Accuracy Score, when K=  20 : 0.9282798833819242\n",
      "Accuracy Score, when K=  21 : 0.9282798833819242\n",
      "Accuracy Score, when K=  22 : 0.9282798833819242\n",
      "Accuracy Score, when K=  23 : 0.9276967930029154\n",
      "Accuracy Score, when K=  24 : 0.9276967930029154\n",
      "Accuracy Score, when K=  25 : 0.9276967930029154\n",
      "Accuracy Score, when K=  26 : 0.9276967930029154\n",
      "Accuracy Score, when K=  27 : 0.9276967930029154\n",
      "Accuracy Score, when K=  28 : 0.9276967930029154\n",
      "Accuracy Score, when K=  29 : 0.9276967930029154\n",
      "Accuracy Score, when K=  30 : 0.9276967930029154\n",
      "Accuracy Score, when K=  31 : 0.9276967930029154\n",
      "Accuracy Score, when K=  32 : 0.9276967930029154\n",
      "Accuracy Score, when K=  33 : 0.9276967930029154\n",
      "Accuracy Score, when K=  34 : 0.9276967930029154\n",
      "Accuracy Score, when K=  35 : 0.9276967930029154\n",
      "Accuracy Score, when K=  36 : 0.9276967930029154\n",
      "Accuracy Score, when K=  37 : 0.9276967930029154\n",
      "Accuracy Score, when K=  38 : 0.9276967930029154\n",
      "Accuracy Score, when K=  39 : 0.9276967930029154\n",
      "Best K value is 5 \n"
     ]
    },
    {
     "data": {
      "text/plain": [
       "Text(0, 0.5, 'Mean Error')"
      ]
     },
     "execution_count": 65,
     "metadata": {},
     "output_type": "execute_result"
    },
    {
     "data": {
      "image/png": "[encoded data removed]",
      "text/plain": [
       "<Figure size 864x432 with 1 Axes>"
      ]
     },
     "metadata": {
      "needs_background": "light"
     },
     "output_type": "display_data"
    }
   ],
   "source": [
    "error = []   \n",
    "# Calculating error for K values between 1 and 40 \n",
    "for i in range(1, 40): \n",
    "    knn = KNeighborsClassifier(n_neighbors=i) \n",
    "    knn.fit(x1_train, y1_train) \n",
    "    pred_i = knn.predict(x1_test) \n",
    "    error.append(np.mean(pred_i != y1_test))\n",
    "    print(\"Accuracy Score, when K= \",i,\":\",metrics.accuracy_score(y1_test,pred_i))\n",
    "    \n",
    "print(\"Best K value is 5 \")\n",
    "    \n",
    "plt.figure(figsize=(12, 6)) \n",
    "plt.plot(range(1, 40), error, color='red', linestyle='dashed', marker='o', markerfacecolor='blue', markersize=10) \n",
    "plt.title('Error Rate Vs K-Value from 1 to 40') \n",
    "plt.xlabel('K Value') \n",
    "plt.ylabel('Mean Error')   \n"
   ]
  },
  {
   "cell_type": "code",
   "execution_count": null,
   "metadata": {},
   "outputs": [],
   "source": [
    "# KNN performs good and finds its neighbours when k =5 and its pretty clear and its acraccy is also smilar with Logistic Regression of 0.98\n",
    "# from the graph of k =1 to 40 points we can clearly see where the model fits and close."
   ]
  },
  {
   "cell_type": "markdown",
   "metadata": {},
   "source": [
    "# # SVM -Support Vector Machine "
   ]
  },
  {
   "cell_type": "code",
   "execution_count": null,
   "metadata": {},
   "outputs": [],
   "source": [
    "#SVM\n",
    "\n",
    "#Strengths: \n",
    "\n",
    "#SVM's can model non-linear decision boundaries, and there are many kernels to choose from. \n",
    "#They are also fairly robust against overfitting, especially in high-dimensional space.\n",
    "# in our task the rbf kernel performance are better compared with linear kernel, when gama is 0.1 \n",
    "\n",
    "#Weaknesses: \n",
    "\n",
    "#However, SVM's are memory intensive, trickier to tune due to the importance of picking the right kernel as well as gamma value outperforms when increased, \n",
    "#and don't scale well to larger datasets. Currently in the industry, random forests are usually preferred over SVM's.\n",
    "# "
   ]
  },
  {
   "cell_type": "code",
   "execution_count": 66,
   "metadata": {},
   "outputs": [],
   "source": [
    "# SVR -REGRESSION\n",
    "# https://towardsdatascience.com/support-vector-machines-svm-c9ef22815589"
   ]
  },
  {
   "cell_type": "code",
   "execution_count": 67,
   "metadata": {},
   "outputs": [],
   "source": [
    "from sklearn.model_selection import train_test_split, cross_val_score\n",
    "from sklearn.preprocessing import MinMaxScaler\n",
    "from sklearn import svm\n",
    "from sklearn.svm import SVR,SVC\n",
    "from sklearn.metrics import confusion_matrix, accuracy_score, f1_score"
   ]
  },
  {
   "cell_type": "code",
   "execution_count": 83,
   "metadata": {},
   "outputs": [
    {
     "name": "stdout",
     "output_type": "stream",
     "text": [
      "Best Kernel on F1 score ['rbf', 'linear', 'poly', 'sigmoid'] [0.8950408836004934, 0.8929011480143003, 0.8985719722631255, 0.8772963231391551]\n"
     ]
    }
   ],
   "source": [
    "kernel = ['rbf','linear','poly','sigmoid']  \n",
    "acc_score_list = []\n",
    "for x in kernel:\n",
    "    best_kernel = svm.SVC(kernel=x)\n",
    "    best_kernel.fit(x1_train, y1_train)\n",
    "    Best_kernel_pred = best_kernel.predict(x1_test)\n",
    "    acc_score_list.append(f1_score(y1_test, Best_kernel_pred, average='weighted'))\n",
    "   \n",
    "print(\"Best Kernel on F1 score\",kernel, acc_score_list)\n",
    " \n"
   ]
  },
  {
   "cell_type": "code",
   "execution_count": 69,
   "metadata": {},
   "outputs": [
    {
     "name": "stdout",
     "output_type": "stream",
     "text": [
      "best SVM(Kernel) - Linear --> 0.899 , rbf Kernel --> 0.898)\n"
     ]
    }
   ],
   "source": [
    "print(\"best SVM(Kernel on F1 score ) - Linear --> 0.899 , rbf Kernel --> 0.898)\")"
   ]
  },
  {
   "cell_type": "markdown",
   "metadata": {},
   "source": [
    "# SVM- LINEAR KERNEL"
   ]
  },
  {
   "cell_type": "code",
   "execution_count": 77,
   "metadata": {},
   "outputs": [
    {
     "name": "stdout",
     "output_type": "stream",
     "text": [
      "Values [0.42946708 0.47648903 0.52351097 0.46226415 0.50628931 0.5754717\n",
      " 0.49371069 0.48427673 0.45283019 0.52830189]\n",
      "Avg  0.4932611738727549\n",
      "Std  0.04012305746875405\n",
      "Score 0.4880466472303207\n"
     ]
    },
    {
     "data": {
      "text/html": [
       "<div>\n",
       "<style scoped>\n",
       "    .dataframe tbody tr th:only-of-type {\n",
       "        vertical-align: middle;\n",
       "    }\n",
       "\n",
       "    .dataframe tbody tr th {\n",
       "        vertical-align: top;\n",
       "    }\n",
       "\n",
       "    .dataframe thead th {\n",
       "        text-align: right;\n",
       "    }\n",
       "</style>\n",
       "<table border=\"1\" class=\"dataframe\">\n",
       "  <thead>\n",
       "    <tr style=\"text-align: right;\">\n",
       "      <th></th>\n",
       "      <th>0</th>\n",
       "      <th>1</th>\n",
       "      <th>2</th>\n",
       "    </tr>\n",
       "  </thead>\n",
       "  <tbody>\n",
       "    <tr>\n",
       "      <th>0</th>\n",
       "      <td>39</td>\n",
       "      <td>5</td>\n",
       "      <td>14</td>\n",
       "    </tr>\n",
       "    <tr>\n",
       "      <th>1</th>\n",
       "      <td>6</td>\n",
       "      <td>44</td>\n",
       "      <td>16</td>\n",
       "    </tr>\n",
       "    <tr>\n",
       "      <th>2</th>\n",
       "      <td>383</td>\n",
       "      <td>454</td>\n",
       "      <td>754</td>\n",
       "    </tr>\n",
       "  </tbody>\n",
       "</table>\n",
       "</div>"
      ],
      "text/plain": [
       "     0    1    2\n",
       "0   39    5   14\n",
       "1    6   44   16\n",
       "2  383  454  754"
      ]
     },
     "execution_count": 77,
     "metadata": {},
     "output_type": "execute_result"
    }
   ],
   "source": [
    "# SVM -Linear Kernel:\n",
    "\n",
    "svc = SVC(class_weight=\"balanced\", kernel='linear', C=1, gamma=0.1)\n",
    "\n",
    "cv = cross_val_score(svc, x1_train, y1_train, cv=10)\n",
    "\n",
    "print('Values', cv)\n",
    "print('Avg ' , cv.mean())\n",
    "print('Std ' , cv.std())\n",
    "\n",
    "model = svc.fit(x1_train, y1_train)\n",
    "\n",
    "score = model.score(x1_test, y1_test)\n",
    "\n",
    "print('Score', score)\n",
    "\n",
    "svm_linear_y_pred = model.predict(x1_test)\n",
    "\n",
    "cm = pd.DataFrame(confusion_matrix(y1_test, svm_linear_y_pred))\n",
    "\n",
    "cm"
   ]
  },
  {
   "cell_type": "code",
   "execution_count": 73,
   "metadata": {},
   "outputs": [
    {
     "name": "stdout",
     "output_type": "stream",
     "text": [
      "     0    1    2\n",
      "0   39    5   14\n",
      "1    6   44   16\n",
      "2  383  454  754\n"
     ]
    },
    {
     "data": {
      "image/png": "[encoded data removed]",
      "text/plain": [
       "<Figure size 432x288 with 1 Axes>"
      ]
     },
     "metadata": {
      "needs_background": "light"
     },
     "output_type": "display_data"
    }
   ],
   "source": [
    "cm_svm = pd.DataFrame(confusion_matrix(y1_test,svm_linear_y_pred))\n",
    "print(cm_svm)\n",
    "\n",
    "sns.heatmap(cm_svm,cbar=False,annot=True,cmap='Blues',fmt=\"d\")\n",
    "plt.xlabel(\"svm_linear_y_pred\")\n",
    "plt.ylabel(\"y1_test\")\n",
    "plt.title(\"Confusion Matrix: Support Vector Machine Learning-linear Kernel\")\n",
    "plt.show()"
   ]
  },
  {
   "cell_type": "code",
   "execution_count": 82,
   "metadata": {},
   "outputs": [
    {
     "name": "stdout",
     "output_type": "stream",
     "text": [
      "SVM-Linear- Accuarcy Score 0.4880466472303207\n"
     ]
    }
   ],
   "source": [
    "print(\"SVM-Linear- Accuarcy Score\",accuracy_score(y1_test, svm_linear_y_pred))"
   ]
  },
  {
   "cell_type": "markdown",
   "metadata": {},
   "source": [
    "# SVM -RBF- KERNEL"
   ]
  },
  {
   "cell_type": "code",
   "execution_count": 78,
   "metadata": {
    "scrolled": false
   },
   "outputs": [],
   "source": [
    "# # SVM -Radial basis function kernel (RBF)/ Gaussian Kernel: \n",
    "\n",
    "# WHEN GAMMA =1, on trial basis \n",
    "\n",
    "# svr = SVR(C=10, kernel='rbf', gamma=1) \n",
    "\n",
    "# A lower value of Gamma will loosely fit the training dataset, whereas a higher value of gamma will \n",
    "# exactly fit the training dataset, which causes over-fitting.\n",
    "\n"
   ]
  },
  {
   "cell_type": "code",
   "execution_count": 79,
   "metadata": {},
   "outputs": [
    {
     "name": "stdout",
     "output_type": "stream",
     "text": [
      "Values [0.64890282 0.65517241 0.72100313 0.69496855 0.6918239  0.68553459\n",
      " 0.66352201 0.70125786 0.66352201 0.72641509]\n",
      "Avg  0.6852122395063188\n",
      "Std  0.02556721710863612\n",
      "Score 0.6880466472303207\n"
     ]
    },
    {
     "data": {
      "text/html": [
       "<div>\n",
       "<style scoped>\n",
       "    .dataframe tbody tr th:only-of-type {\n",
       "        vertical-align: middle;\n",
       "    }\n",
       "\n",
       "    .dataframe tbody tr th {\n",
       "        vertical-align: top;\n",
       "    }\n",
       "\n",
       "    .dataframe thead th {\n",
       "        text-align: right;\n",
       "    }\n",
       "</style>\n",
       "<table border=\"1\" class=\"dataframe\">\n",
       "  <thead>\n",
       "    <tr style=\"text-align: right;\">\n",
       "      <th></th>\n",
       "      <th>0</th>\n",
       "      <th>1</th>\n",
       "      <th>2</th>\n",
       "    </tr>\n",
       "  </thead>\n",
       "  <tbody>\n",
       "    <tr>\n",
       "      <th>0</th>\n",
       "      <td>36</td>\n",
       "      <td>4</td>\n",
       "      <td>18</td>\n",
       "    </tr>\n",
       "    <tr>\n",
       "      <th>1</th>\n",
       "      <td>1</td>\n",
       "      <td>50</td>\n",
       "      <td>15</td>\n",
       "    </tr>\n",
       "    <tr>\n",
       "      <th>2</th>\n",
       "      <td>194</td>\n",
       "      <td>303</td>\n",
       "      <td>1094</td>\n",
       "    </tr>\n",
       "  </tbody>\n",
       "</table>\n",
       "</div>"
      ],
      "text/plain": [
       "     0    1     2\n",
       "0   36    4    18\n",
       "1    1   50    15\n",
       "2  194  303  1094"
      ]
     },
     "execution_count": 79,
     "metadata": {},
     "output_type": "execute_result"
    }
   ],
   "source": [
    "# SVM -Radial basis function kernel (RBF)/ Gaussian Kernel:\n",
    "\n",
    "svc = SVC(class_weight=\"balanced\", kernel='rbf', C=1, gamma=0.1)\n",
    "\n",
    "cv = cross_val_score(svc, x1_train, y1_train, cv=10)\n",
    "\n",
    "print('Values', cv)\n",
    "print('Avg ' , cv.mean())\n",
    "print('Std ' , cv.std())\n",
    "\n",
    "model = svc.fit(x1_train, y1_train)\n",
    "\n",
    "score = model.score(x1_test, y1_test)\n",
    "\n",
    "print('Score', score)\n",
    "\n",
    "rbf_y_pred = model.predict(x1_test)\n",
    "\n",
    "cm = pd.DataFrame(confusion_matrix(y1_test, rbf_y_pred))\n",
    "\n",
    "cm"
   ]
  },
  {
   "cell_type": "code",
   "execution_count": null,
   "metadata": {},
   "outputs": [],
   "source": [
    "\n",
    "sns.heatmap(cm,cbar=False,annot=True,cmap='Blues',fmt=\"d\")\n",
    "plt.xlabel(\"rbf_y_pred\")\n",
    "plt.ylabel(\"y1_test\")\n",
    "plt.title(\"Confusion Matrix: Support Vector Machine Learning- rbf Kernel\")\n",
    "plt.show()"
   ]
  },
  {
   "cell_type": "code",
   "execution_count": 80,
   "metadata": {},
   "outputs": [
    {
     "name": "stdout",
     "output_type": "stream",
     "text": [
      "              precision    recall  f1-score   support\n",
      "\n",
      "         Bad       0.16      0.62      0.25        58\n",
      "        Good       0.14      0.76      0.24        66\n",
      "      Medium       0.97      0.69      0.81      1591\n",
      "\n",
      "    accuracy                           0.69      1715\n",
      "   macro avg       0.42      0.69      0.43      1715\n",
      "weighted avg       0.91      0.69      0.76      1715\n",
      "\n",
      "SVM-RBF- Accuracy Score 0.6880466472303207\n"
     ]
    }
   ],
   "source": [
    "print(classification_report(y1_test, rbf_y_pred))\n",
    "print(\"SVM-RBF- Accuracy Score\",accuracy_score(y1_test, rbf_y_pred))"
   ]
  },
  {
   "cell_type": "code",
   "execution_count": null,
   "metadata": {},
   "outputs": [],
   "source": [
    "# SVM performance is not upto mark for the wine dataset that too with Linear kernel .\n",
    "\n",
    "# Rbf kernel performs and achieves 0.68 but its less compared to other models."
   ]
  },
  {
   "cell_type": "markdown",
   "metadata": {},
   "source": [
    "# ESSEMBLE # Random Forest "
   ]
  },
  {
   "cell_type": "code",
   "execution_count": null,
   "metadata": {},
   "outputs": [],
   "source": [
    "# ESSEMBLE\n",
    "\n",
    "#Strengths: \n",
    "\n",
    "#As with regression, classification tree ensembles also perform very well in practice. \n",
    "#They are robust to outliers, scalable, and able to naturally model non-linear decision boundaries \n",
    "#thanks to their hierarchical structure.\n",
    "\n",
    "#Weaknesses: \n",
    "\n",
    "\n",
    "#Unconstrained, individual trees are prone to overfitting, but this can be alleviated by ensemble methods.\n",
    "\n"
   ]
  },
  {
   "cell_type": "code",
   "execution_count": 84,
   "metadata": {},
   "outputs": [],
   "source": [
    "from sklearn.ensemble import RandomForestClassifier"
   ]
  },
  {
   "cell_type": "code",
   "execution_count": 85,
   "metadata": {
    "scrolled": true
   },
   "outputs": [
    {
     "name": "stdout",
     "output_type": "stream",
     "text": [
      "              precision    recall  f1-score   support\n",
      "\n",
      "         Bad       0.54      0.12      0.20        58\n",
      "        Good       1.00      0.32      0.48        66\n",
      "      Medium       0.94      1.00      0.97      1591\n",
      "\n",
      "    accuracy                           0.94      1715\n",
      "   macro avg       0.83      0.48      0.55      1715\n",
      "weighted avg       0.93      0.94      0.92      1715\n",
      "\n"
     ]
    }
   ],
   "source": [
    "rfc = RandomForestClassifier(n_estimators=250)\n",
    "rfc.fit(x1_train, y1_train)\n",
    "pred_rfc = rfc.predict(x1_test)\n",
    "print(classification_report(y1_test, pred_rfc))"
   ]
  },
  {
   "cell_type": "code",
   "execution_count": 86,
   "metadata": {},
   "outputs": [
    {
     "name": "stdout",
     "output_type": "stream",
     "text": [
      "[[   7    0   51]\n",
      " [   0   21   45]\n",
      " [   6    0 1585]]\n"
     ]
    },
    {
     "data": {
      "image/png": "[encoded data removed]",
      "text/plain": [
       "<Figure size 432x288 with 1 Axes>"
      ]
     },
     "metadata": {
      "needs_background": "light"
     },
     "output_type": "display_data"
    }
   ],
   "source": [
    "#Confusion Matrix\n",
    "cm = confusion_matrix(y1_test,pred_rfc)\n",
    "print(cm)\n",
    "\n",
    "sns.heatmap(cm,cbar=False,annot=True,cmap='Blues',fmt=\"d\")\n",
    "plt.xlabel(\"pred_rfc\")\n",
    "plt.ylabel(\"y1_test\")\n",
    "plt.title(\"Confusion Matrix: Random Forest Classifier\")\n",
    "plt.show()"
   ]
  },
  {
   "cell_type": "code",
   "execution_count": 87,
   "metadata": {},
   "outputs": [
    {
     "name": "stdout",
     "output_type": "stream",
     "text": [
      "Random Forest Accuracy:  0.9405247813411078\n",
      "              precision    recall  f1-score   support\n",
      "\n",
      "         Bad       0.54      0.12      0.20        58\n",
      "        Good       1.00      0.32      0.48        66\n",
      "      Medium       0.94      1.00      0.97      1591\n",
      "\n",
      "    accuracy                           0.94      1715\n",
      "   macro avg       0.83      0.48      0.55      1715\n",
      "weighted avg       0.93      0.94      0.92      1715\n",
      "\n"
     ]
    }
   ],
   "source": [
    "print(\"Random Forest Accuracy: \",metrics.accuracy_score(y1_test,pred_rfc))\n",
    "print(classification_report(y1_test, pred_rfc))"
   ]
  },
  {
   "cell_type": "code",
   "execution_count": null,
   "metadata": {},
   "outputs": [],
   "source": [
    "# RANDOM FOREST\n",
    "\n",
    "#Strengths: \n",
    "\n",
    "# Random Forests can be used for both classification and regression tasks with both categorical and numerical data.\n",
    "# No scaling or transformation of variables is generally required.\n",
    "# Random Forests implicitly perform feature selection and generate uncorrelated decision trees. \n",
    "# It does this by choosing a random set of features to build each decision tree. \n",
    "# This also makes it a great model when you have to work with a high number of features in the data.\n",
    "# best model in for our dataset of 94%\n",
    "\n",
    "#Weaknesses: \n",
    "\n",
    "# Random Forests for extremely very large dataset is insensitive\n",
    "\n",
    "# https://medium.datadriveninvestor.com/random-forest-pros-and-cons-c1c42fb64f04\n"
   ]
  },
  {
   "cell_type": "markdown",
   "metadata": {},
   "source": [
    "# ESSEMBLE -ADABOOST"
   ]
  },
  {
   "cell_type": "code",
   "execution_count": 119,
   "metadata": {},
   "outputs": [
    {
     "name": "stdout",
     "output_type": "stream",
     "text": [
      "              precision    recall  f1-score   support\n",
      "\n",
      "         Bad       0.25      0.43      0.31        58\n",
      "        Good       0.17      0.14      0.15        66\n",
      "      Medium       0.94      0.92      0.93      1591\n",
      "\n",
      "    accuracy                           0.88      1715\n",
      "   macro avg       0.45      0.50      0.47      1715\n",
      "weighted avg       0.89      0.88      0.88      1715\n",
      "\n"
     ]
    }
   ],
   "source": [
    "#AdaBoost \n",
    "from sklearn.ensemble import AdaBoostClassifier\n",
    "adboost = AdaBoostClassifier(n_estimators =50, random_state=1)\n",
    "adboost.fit(x1_train, y1_train)\n",
    "y_pred_adboost = adboost.predict(x1_test)\n",
    "print(classification_report(y1_test, y_pred_adboost))"
   ]
  },
  {
   "cell_type": "code",
   "execution_count": 89,
   "metadata": {},
   "outputs": [
    {
     "name": "stdout",
     "output_type": "stream",
     "text": [
      "Accuarcy : 0.8769679300291545\n"
     ]
    }
   ],
   "source": [
    "print(\"Accuarcy :\", accuracy_score(y1_test, y_pred_adboost))"
   ]
  },
  {
   "cell_type": "code",
   "execution_count": 90,
   "metadata": {},
   "outputs": [
    {
     "name": "stdout",
     "output_type": "stream",
     "text": [
      "    0   1     2\n",
      "0  25   0    33\n",
      "1   0   9    57\n",
      "2  76  45  1470\n"
     ]
    },
    {
     "data": {
      "image/png": "[encoded data removed]",
      "text/plain": [
       "<Figure size 432x288 with 1 Axes>"
      ]
     },
     "metadata": {
      "needs_background": "light"
     },
     "output_type": "display_data"
    }
   ],
   "source": [
    "cm = pd.DataFrame(confusion_matrix(y1_test,y_pred_adboost))\n",
    "print(cm)\n",
    "\n",
    "sns.heatmap(cm,cbar=False,annot=True,cmap='Blues',fmt=\"d\")\n",
    "plt.xlabel(\"y_pred_adboost\")\n",
    "plt.ylabel(\"y1_test\")\n",
    "plt.title(\"Confusion Matrix: AdaBoost\")\n",
    "plt.show()"
   ]
  },
  {
   "cell_type": "code",
   "execution_count": null,
   "metadata": {},
   "outputs": [],
   "source": [
    "# ADABOOST\n",
    "\n",
    "# STRENGTH :\n",
    "\n",
    "# One of the many advantages of the AdaBoost Algorithm is it is fast, simple and easy to program. Also, \n",
    "# it has the flexibility to be combined with any machine learning algorithm and there is no need to tune \n",
    "# the parameters except for T. It has been extended to learning problems beyond binary classification and it \n",
    "# is versatile as it can be used with text or numeric data.\n",
    "\n",
    "# # It combines the weak learners to create a strong one to correct classification errors \n",
    "# which is also the first successful boosting algorithm for binary classification problems.\n",
    "\n",
    "# WEAKNESS:\n",
    "\n",
    "\n",
    "\n",
    "# AdaBoost also has few disadvantages such as it is from empirical evidence and particularly vulnerable to uniform noise. \n",
    "# Weak classifiers being too weak can lead to low margins and overfitting.\n",
    "\n",
    "# https://www.educba.com/adaboost-algorithm/\n",
    "\n"
   ]
  },
  {
   "cell_type": "markdown",
   "metadata": {},
   "source": [
    "# Neural Network- Keras Sequential Model\n"
   ]
  },
  {
   "cell_type": "code",
   "execution_count": null,
   "metadata": {},
   "outputs": [],
   "source": [
    "# KERAS \n",
    "\n",
    "# STRENGTH :\n",
    "\n",
    "# basic – simple to use\n",
    "# allows you to create models layer-by-layer\n",
    "\n",
    "# WEAKNESS:\n",
    "\n",
    "# while layers like Merge, Concatenate, Add etc. allow for a combination of models, it is not very flexible, \n",
    "# making it difficult to make models with multi-input, multi-output or shared-layers"
   ]
  },
  {
   "cell_type": "code",
   "execution_count": 91,
   "metadata": {},
   "outputs": [],
   "source": [
    "#pip install tensorflow==2.2"
   ]
  },
  {
   "cell_type": "code",
   "execution_count": 92,
   "metadata": {},
   "outputs": [],
   "source": [
    "\n",
    "#pip install keras\n"
   ]
  },
  {
   "cell_type": "code",
   "execution_count": 93,
   "metadata": {},
   "outputs": [],
   "source": [
    "#pip install tensorflow"
   ]
  },
  {
   "cell_type": "code",
   "execution_count": 94,
   "metadata": {},
   "outputs": [],
   "source": [
    "import tensorflow as tf\n",
    "from tensorflow import keras\n",
    "from keras.models import Sequential\n",
    "from keras.layers import Dense\n",
    "#from keras.wrappers.scikit_learn import KerasClassifier\n",
    "#from sklearn.model_selection import cross_val_score\n",
    "#from sklearn.model_selection import Str"
   ]
  },
  {
   "cell_type": "code",
   "execution_count": 95,
   "metadata": {},
   "outputs": [],
   "source": [
    "#neural Networks has a bit problem with the catagorical data so here we will do the LABEL-ENCODING "
   ]
  },
  {
   "cell_type": "code",
   "execution_count": 96,
   "metadata": {},
   "outputs": [],
   "source": [
    "# https://towardsdatascience.com/an-overview-of-categorical-input-handling-for-neural-networks-c172ba552dee\n",
    "# https://www.geeksforgeeks.org/ml-one-hot-encoding-of-datasets-in-python/"
   ]
  },
  {
   "cell_type": "code",
   "execution_count": 97,
   "metadata": {},
   "outputs": [],
   "source": [
    "\n",
    "from sklearn import preprocessing\n",
    "from sklearn.preprocessing import LabelEncoder\n",
    "le = LabelEncoder()\n",
    "wine['quality']= le.fit_transform(wine['quality'])\n"
   ]
  },
  {
   "cell_type": "code",
   "execution_count": 98,
   "metadata": {},
   "outputs": [
    {
     "data": {
      "text/plain": [
       "array([2, 1, 0])"
      ]
     },
     "execution_count": 98,
     "metadata": {},
     "output_type": "execute_result"
    }
   ],
   "source": [
    "wine.quality.unique()"
   ]
  },
  {
   "cell_type": "code",
   "execution_count": 100,
   "metadata": {},
   "outputs": [
    {
     "name": "stdout",
     "output_type": "stream",
     "text": [
      "X-Train Shape:  (3183, 11) \n",
      "Y-Train Shape(Dependent): (3183,)\n",
      "X-Test Shape:  (1715, 11) \n",
      "Y-Test Shape(Dependent): (1715,)\n"
     ]
    }
   ],
   "source": [
    "x=wine[['fixed_acidity','volatile_acidity','citric_acid','residual_sugar','chlorides','free_sulfur_dioxide','total_sulfur_dioxide','density','pH','sulphates','alcohol']]\n",
    "y= wine[\"quality\"]\n",
    "x_train, x_test, y_train, y_test = train_test_split(x,y,test_size=0.35, shuffle= True)\n",
    "print(\"X-Train Shape: \", x_train.shape,'\\n' \"Y-Train Shape(Dependent):\", y_train.shape)\n",
    "print(\"X-Test Shape: \", x_test.shape,'\\n' \"Y-Test Shape(Dependent):\", y_test.shape)"
   ]
  },
  {
   "cell_type": "code",
   "execution_count": 103,
   "metadata": {},
   "outputs": [],
   "source": [
    "scaler = StandardScaler() \n",
    "scaler.fit(x_train) \n",
    "scaler.fit(x_test)\n",
    "x_train = scaler.transform(x_train) \n",
    "x_test = scaler.transform(x_test)"
   ]
  },
  {
   "cell_type": "code",
   "execution_count": 102,
   "metadata": {},
   "outputs": [
    {
     "name": "stdout",
     "output_type": "stream",
     "text": [
      "Epoch 1/500\n",
      "100/100 [==============================] - 0s 917us/step - loss: -13.2369 - mean_squared_error: 0.5249\n",
      "Epoch 2/500\n",
      "100/100 [==============================] - 0s 883us/step - loss: -13.5437 - mean_squared_error: 0.5829\n",
      "Epoch 3/500\n",
      "100/100 [==============================] - 0s 893us/step - loss: -13.5437 - mean_squared_error: 0.5829\n",
      "Epoch 4/500\n",
      "100/100 [==============================] - 0s 898us/step - loss: -13.5437 - mean_squared_error: 0.5829\n",
      "Epoch 5/500\n",
      "100/100 [==============================] - 0s 890us/step - loss: -13.5437 - mean_squared_error: 0.5829\n",
      "Epoch 6/500\n",
      "100/100 [==============================] - 0s 956us/step - loss: -13.5437 - mean_squared_error: 0.5829\n",
      "Epoch 7/500\n",
      "100/100 [==============================] - 0s 937us/step - loss: -13.5437 - mean_squared_error: 0.5829\n",
      "Epoch 8/500\n",
      "100/100 [==============================] - 0s 934us/step - loss: -13.5437 - mean_squared_error: 0.5829\n",
      "Epoch 9/500\n",
      "100/100 [==============================] - 0s 915us/step - loss: -13.5437 - mean_squared_error: 0.5829\n",
      "Epoch 10/500\n",
      "100/100 [==============================] - 0s 875us/step - loss: -13.5437 - mean_squared_error: 0.5829\n",
      "Epoch 11/500\n",
      "100/100 [==============================] - 0s 1ms/step - loss: -13.5437 - mean_squared_error: 0.5829\n",
      "Epoch 12/500\n",
      "100/100 [==============================] - 0s 1ms/step - loss: -13.5437 - mean_squared_error: 0.5829\n",
      "Epoch 13/500\n",
      "100/100 [==============================] - 0s 878us/step - loss: -13.5437 - mean_squared_error: 0.5829\n",
      "Epoch 14/500\n",
      "100/100 [==============================] - 0s 917us/step - loss: -13.5437 - mean_squared_error: 0.5829\n",
      "Epoch 15/500\n",
      "100/100 [==============================] - 0s 908us/step - loss: -13.5437 - mean_squared_error: 0.5829\n",
      "Epoch 16/500\n",
      "100/100 [==============================] - 0s 898us/step - loss: -13.5437 - mean_squared_error: 0.5829\n",
      "Epoch 17/500\n",
      "100/100 [==============================] - 0s 878us/step - loss: -13.5437 - mean_squared_error: 0.5829\n",
      "Epoch 18/500\n",
      "100/100 [==============================] - 0s 956us/step - loss: -13.5437 - mean_squared_error: 0.5829\n",
      "Epoch 19/500\n",
      "100/100 [==============================] - 0s 888us/step - loss: -13.5437 - mean_squared_error: 0.5829\n",
      "Epoch 20/500\n",
      "100/100 [==============================] - 0s 869us/step - loss: -13.5437 - mean_squared_error: 0.5829\n",
      "Epoch 21/500\n",
      "100/100 [==============================] - 0s 888us/step - loss: -13.5437 - mean_squared_error: 0.5829\n",
      "Epoch 22/500\n",
      "100/100 [==============================] - 0s 917us/step - loss: -13.5437 - mean_squared_error: 0.5829\n",
      "Epoch 23/500\n",
      "100/100 [==============================] - ETA: 0s - loss: -13.4499 - mean_squared_error: 0.60 - 0s 888us/step - loss: -13.5437 - mean_squared_error: 0.5829\n",
      "Epoch 24/500\n",
      "100/100 [==============================] - 0s 898us/step - loss: -13.5437 - mean_squared_error: 0.5829\n",
      "Epoch 25/500\n",
      "100/100 [==============================] - 0s 898us/step - loss: -13.5437 - mean_squared_error: 0.5829\n",
      "Epoch 26/500\n",
      "100/100 [==============================] - 0s 908us/step - loss: -13.5437 - mean_squared_error: 0.5829\n",
      "Epoch 27/500\n",
      "100/100 [==============================] - 0s 887us/step - loss: -13.5437 - mean_squared_error: 0.5829\n",
      "Epoch 28/500\n",
      "100/100 [==============================] - 0s 884us/step - loss: -13.5437 - mean_squared_error: 0.5829\n",
      "Epoch 29/500\n",
      "100/100 [==============================] - 0s 942us/step - loss: -13.5437 - mean_squared_error: 0.5829\n",
      "Epoch 30/500\n",
      "100/100 [==============================] - 0s 908us/step - loss: -13.5437 - mean_squared_error: 0.5829\n",
      "Epoch 31/500\n",
      "100/100 [==============================] - 0s 1ms/step - loss: -13.5437 - mean_squared_error: 0.5829\n",
      "Epoch 32/500\n",
      "100/100 [==============================] - 0s 874us/step - loss: -13.5437 - mean_squared_error: 0.5829\n",
      "Epoch 33/500\n",
      "100/100 [==============================] - 0s 878us/step - loss: -13.5437 - mean_squared_error: 0.5829\n",
      "Epoch 34/500\n",
      "100/100 [==============================] - 0s 904us/step - loss: -13.5437 - mean_squared_error: 0.58290s - loss: -13.4601 - mean_squared_error: 0.60\n",
      "Epoch 35/500\n",
      "100/100 [==============================] - 0s 875us/step - loss: -13.5437 - mean_squared_error: 0.5829\n",
      "Epoch 36/500\n",
      "100/100 [==============================] - 0s 899us/step - loss: -13.5437 - mean_squared_error: 0.5829\n",
      "Epoch 37/500\n",
      "100/100 [==============================] - 0s 908us/step - loss: -13.5437 - mean_squared_error: 0.5829\n",
      "Epoch 38/500\n",
      "100/100 [==============================] - 0s 898us/step - loss: -13.5437 - mean_squared_error: 0.5829\n",
      "Epoch 39/500\n",
      "100/100 [==============================] - 0s 888us/step - loss: -13.5437 - mean_squared_error: 0.5829\n",
      "Epoch 40/500\n",
      "100/100 [==============================] - 0s 956us/step - loss: -13.5437 - mean_squared_error: 0.5829\n",
      "Epoch 41/500\n",
      "100/100 [==============================] - 0s 908us/step - loss: -13.5437 - mean_squared_error: 0.5829\n",
      "Epoch 42/500\n",
      "100/100 [==============================] - 0s 898us/step - loss: -13.5437 - mean_squared_error: 0.5829\n",
      "Epoch 43/500\n",
      "100/100 [==============================] - 0s 908us/step - loss: -13.5437 - mean_squared_error: 0.5829\n",
      "Epoch 44/500\n",
      "100/100 [==============================] - 0s 1ms/step - loss: -13.5437 - mean_squared_error: 0.5829\n",
      "Epoch 45/500\n",
      "100/100 [==============================] - 0s 1ms/step - loss: -13.5437 - mean_squared_error: 0.5829\n",
      "Epoch 46/500\n",
      "100/100 [==============================] - 0s 1ms/step - loss: -13.5437 - mean_squared_error: 0.5829\n",
      "Epoch 47/500\n",
      "100/100 [==============================] - 0s 947us/step - loss: -13.5437 - mean_squared_error: 0.5829\n",
      "Epoch 48/500\n",
      "100/100 [==============================] - 0s 869us/step - loss: -13.5437 - mean_squared_error: 0.5829\n",
      "Epoch 49/500\n",
      "100/100 [==============================] - 0s 898us/step - loss: -13.5437 - mean_squared_error: 0.5829\n",
      "Epoch 50/500\n",
      "100/100 [==============================] - 0s 966us/step - loss: -13.5437 - mean_squared_error: 0.5829\n",
      "Epoch 51/500\n",
      "100/100 [==============================] - 0s 936us/step - loss: -13.5437 - mean_squared_error: 0.5829\n",
      "Epoch 52/500\n",
      "100/100 [==============================] - 0s 1ms/step - loss: -13.5437 - mean_squared_error: 0.5829\n",
      "Epoch 53/500\n",
      "100/100 [==============================] - 0s 986us/step - loss: -13.5437 - mean_squared_error: 0.5829\n",
      "Epoch 54/500\n",
      "100/100 [==============================] - 0s 867us/step - loss: -13.5437 - mean_squared_error: 0.5829\n",
      "Epoch 55/500\n",
      "100/100 [==============================] - 0s 868us/step - loss: -13.5437 - mean_squared_error: 0.5829\n",
      "Epoch 56/500\n",
      "100/100 [==============================] - 0s 846us/step - loss: -13.5437 - mean_squared_error: 0.5829\n",
      "Epoch 57/500\n",
      "100/100 [==============================] - 0s 878us/step - loss: -13.5437 - mean_squared_error: 0.5829\n",
      "Epoch 58/500\n",
      "100/100 [==============================] - 0s 859us/step - loss: -13.5437 - mean_squared_error: 0.5829\n",
      "Epoch 59/500\n",
      "100/100 [==============================] - 0s 849us/step - loss: -13.5437 - mean_squared_error: 0.5829\n",
      "Epoch 60/500\n",
      "100/100 [==============================] - 0s 908us/step - loss: -13.5437 - mean_squared_error: 0.5829\n",
      "Epoch 61/500\n",
      "100/100 [==============================] - 0s 1ms/step - loss: -13.5437 - mean_squared_error: 0.5829\n",
      "Epoch 62/500\n",
      "100/100 [==============================] - 0s 1ms/step - loss: -13.5437 - mean_squared_error: 0.5829\n",
      "Epoch 63/500\n",
      "100/100 [==============================] - 0s 1ms/step - loss: -13.5437 - mean_squared_error: 0.5829\n",
      "Epoch 64/500\n",
      "100/100 [==============================] - 0s 878us/step - loss: -13.5437 - mean_squared_error: 0.5829\n",
      "Epoch 65/500\n",
      "100/100 [==============================] - 0s 878us/step - loss: -13.5437 - mean_squared_error: 0.5829\n",
      "Epoch 66/500\n",
      "100/100 [==============================] - 0s 1ms/step - loss: -13.5437 - mean_squared_error: 0.5829\n",
      "Epoch 67/500\n",
      "100/100 [==============================] - 0s 1ms/step - loss: -13.5437 - mean_squared_error: 0.5829\n",
      "Epoch 68/500\n",
      "100/100 [==============================] - 0s 908us/step - loss: -13.5437 - mean_squared_error: 0.5829\n",
      "Epoch 69/500\n",
      "100/100 [==============================] - 0s 869us/step - loss: -13.5437 - mean_squared_error: 0.5829\n",
      "Epoch 70/500\n",
      "100/100 [==============================] - 0s 966us/step - loss: -13.5437 - mean_squared_error: 0.5829\n",
      "Epoch 71/500\n",
      "100/100 [==============================] - 0s 947us/step - loss: -13.5437 - mean_squared_error: 0.5829\n",
      "Epoch 72/500\n",
      "100/100 [==============================] - 0s 916us/step - loss: -13.5437 - mean_squared_error: 0.5829\n",
      "Epoch 73/500\n",
      "100/100 [==============================] - 0s 913us/step - loss: -13.5437 - mean_squared_error: 0.5829\n",
      "Epoch 74/500\n",
      "100/100 [==============================] - 0s 908us/step - loss: -13.5437 - mean_squared_error: 0.5829\n",
      "Epoch 75/500\n",
      "100/100 [==============================] - 0s 859us/step - loss: -13.5437 - mean_squared_error: 0.5829\n",
      "Epoch 76/500\n",
      "100/100 [==============================] - 0s 903us/step - loss: -13.5437 - mean_squared_error: 0.5829\n",
      "Epoch 77/500\n",
      "100/100 [==============================] - 0s 924us/step - loss: -13.5437 - mean_squared_error: 0.5829\n",
      "Epoch 78/500\n",
      "100/100 [==============================] - 0s 865us/step - loss: -13.5437 - mean_squared_error: 0.5829\n",
      "Epoch 79/500\n",
      "100/100 [==============================] - 0s 895us/step - loss: -13.5437 - mean_squared_error: 0.5829\n",
      "Epoch 80/500\n",
      "100/100 [==============================] - 0s 905us/step - loss: -13.5437 - mean_squared_error: 0.5829\n",
      "Epoch 81/500\n",
      "100/100 [==============================] - 0s 1ms/step - loss: -13.5437 - mean_squared_error: 0.5829\n",
      "Epoch 82/500\n",
      "100/100 [==============================] - 0s 1ms/step - loss: -13.5437 - mean_squared_error: 0.5829\n",
      "Epoch 83/500\n",
      "100/100 [==============================] - 0s 908us/step - loss: -13.5437 - mean_squared_error: 0.5829\n",
      "Epoch 84/500\n",
      "100/100 [==============================] - 0s 859us/step - loss: -13.5437 - mean_squared_error: 0.5829\n",
      "Epoch 85/500\n",
      "100/100 [==============================] - 0s 1ms/step - loss: -13.5437 - mean_squared_error: 0.5829\n",
      "Epoch 86/500\n",
      "100/100 [==============================] - 0s 1ms/step - loss: -13.5437 - mean_squared_error: 0.5829\n",
      "Epoch 87/500\n",
      "100/100 [==============================] - 0s 1ms/step - loss: -13.5437 - mean_squared_error: 0.5829\n",
      "Epoch 88/500\n",
      "100/100 [==============================] - 0s 1ms/step - loss: -13.5437 - mean_squared_error: 0.5829\n",
      "Epoch 89/500\n",
      "100/100 [==============================] - 0s 976us/step - loss: -13.5437 - mean_squared_error: 0.5829\n",
      "Epoch 90/500\n",
      "100/100 [==============================] - 0s 1ms/step - loss: -13.5437 - mean_squared_error: 0.5829\n",
      "Epoch 91/500\n",
      "100/100 [==============================] - 0s 888us/step - loss: -13.5437 - mean_squared_error: 0.5829\n",
      "Epoch 92/500\n",
      "100/100 [==============================] - 0s 917us/step - loss: -13.5437 - mean_squared_error: 0.5829\n",
      "Epoch 93/500\n",
      "100/100 [==============================] - 0s 878us/step - loss: -13.5437 - mean_squared_error: 0.5829\n",
      "Epoch 94/500\n",
      "100/100 [==============================] - 0s 888us/step - loss: -13.5437 - mean_squared_error: 0.5829\n",
      "Epoch 95/500\n",
      "100/100 [==============================] - 0s 875us/step - loss: -13.5437 - mean_squared_error: 0.5829\n",
      "Epoch 96/500\n",
      "100/100 [==============================] - 0s 878us/step - loss: -13.5437 - mean_squared_error: 0.5829\n",
      "Epoch 97/500\n",
      "100/100 [==============================] - 0s 923us/step - loss: -13.5437 - mean_squared_error: 0.5829\n",
      "Epoch 98/500\n",
      "100/100 [==============================] - 0s 952us/step - loss: -13.5437 - mean_squared_error: 0.5829\n",
      "Epoch 99/500\n",
      "100/100 [==============================] - 0s 889us/step - loss: -13.5437 - mean_squared_error: 0.5829\n",
      "Epoch 100/500\n",
      "100/100 [==============================] - 0s 869us/step - loss: -13.5437 - mean_squared_error: 0.5829\n",
      "Epoch 101/500\n",
      "100/100 [==============================] - 0s 909us/step - loss: -13.5437 - mean_squared_error: 0.5829\n",
      "Epoch 102/500\n",
      "100/100 [==============================] - 0s 889us/step - loss: -13.5437 - mean_squared_error: 0.5829\n",
      "Epoch 103/500\n",
      "100/100 [==============================] - 0s 947us/step - loss: -13.5437 - mean_squared_error: 0.5829\n",
      "Epoch 104/500\n",
      "100/100 [==============================] - 0s 888us/step - loss: -13.5437 - mean_squared_error: 0.5829\n",
      "Epoch 105/500\n",
      "100/100 [==============================] - 0s 898us/step - loss: -13.5437 - mean_squared_error: 0.5829\n",
      "Epoch 106/500\n",
      "100/100 [==============================] - 0s 898us/step - loss: -13.5437 - mean_squared_error: 0.58290s - loss: -13.5567 - mean_squared_error: 0.57\n",
      "Epoch 107/500\n",
      "100/100 [==============================] - 0s 859us/step - loss: -13.5437 - mean_squared_error: 0.5829\n",
      "Epoch 108/500\n",
      "100/100 [==============================] - 0s 888us/step - loss: -13.5437 - mean_squared_error: 0.5829\n",
      "Epoch 109/500\n",
      "100/100 [==============================] - 0s 878us/step - loss: -13.5437 - mean_squared_error: 0.5829\n",
      "Epoch 110/500\n",
      "100/100 [==============================] - 0s 878us/step - loss: -13.5437 - mean_squared_error: 0.5829\n",
      "Epoch 111/500\n",
      "100/100 [==============================] - 0s 878us/step - loss: -13.5437 - mean_squared_error: 0.5829\n",
      "Epoch 112/500\n",
      "100/100 [==============================] - 0s 878us/step - loss: -13.5437 - mean_squared_error: 0.5829\n",
      "Epoch 113/500\n",
      "100/100 [==============================] - 0s 898us/step - loss: -13.5437 - mean_squared_error: 0.5829\n",
      "Epoch 114/500\n",
      "100/100 [==============================] - 0s 917us/step - loss: -13.5437 - mean_squared_error: 0.5829\n",
      "Epoch 115/500\n",
      "100/100 [==============================] - 0s 908us/step - loss: -13.5437 - mean_squared_error: 0.5829\n",
      "Epoch 116/500\n",
      "100/100 [==============================] - 0s 898us/step - loss: -13.5437 - mean_squared_error: 0.5829\n",
      "Epoch 117/500\n",
      "100/100 [==============================] - 0s 888us/step - loss: -13.5437 - mean_squared_error: 0.5829\n",
      "Epoch 118/500\n",
      "100/100 [==============================] - 0s 876us/step - loss: -13.5437 - mean_squared_error: 0.5829\n",
      "Epoch 119/500\n",
      "100/100 [==============================] - 0s 903us/step - loss: -13.5437 - mean_squared_error: 0.5829\n",
      "Epoch 120/500\n",
      "100/100 [==============================] - 0s 898us/step - loss: -13.5437 - mean_squared_error: 0.5829\n",
      "Epoch 121/500\n",
      "100/100 [==============================] - 0s 904us/step - loss: -13.5437 - mean_squared_error: 0.5829\n",
      "Epoch 122/500\n",
      "100/100 [==============================] - 0s 966us/step - loss: -13.5437 - mean_squared_error: 0.5829\n",
      "Epoch 123/500\n",
      "100/100 [==============================] - 0s 956us/step - loss: -13.5437 - mean_squared_error: 0.5829\n",
      "Epoch 124/500\n",
      "100/100 [==============================] - 0s 923us/step - loss: -13.5437 - mean_squared_error: 0.5829\n",
      "Epoch 125/500\n",
      "100/100 [==============================] - 0s 923us/step - loss: -13.5437 - mean_squared_error: 0.5829\n",
      "Epoch 126/500\n",
      "100/100 [==============================] - 0s 898us/step - loss: -13.5437 - mean_squared_error: 0.5829\n",
      "Epoch 127/500\n",
      "100/100 [==============================] - 0s 927us/step - loss: -13.5437 - mean_squared_error: 0.5829\n",
      "Epoch 128/500\n",
      "100/100 [==============================] - 0s 1ms/step - loss: -13.5437 - mean_squared_error: 0.5829\n",
      "Epoch 129/500\n",
      "100/100 [==============================] - 0s 956us/step - loss: -13.5437 - mean_squared_error: 0.5829\n",
      "Epoch 130/500\n",
      "100/100 [==============================] - 0s 956us/step - loss: -13.5437 - mean_squared_error: 0.5829\n",
      "Epoch 131/500\n",
      "100/100 [==============================] - 0s 996us/step - loss: -13.5437 - mean_squared_error: 0.5829\n",
      "Epoch 132/500\n",
      "100/100 [==============================] - 0s 976us/step - loss: -13.5437 - mean_squared_error: 0.5829\n",
      "Epoch 133/500\n",
      "100/100 [==============================] - 0s 986us/step - loss: -13.5437 - mean_squared_error: 0.5829\n",
      "Epoch 134/500\n",
      "100/100 [==============================] - 0s 1ms/step - loss: -13.5437 - mean_squared_error: 0.5829\n",
      "Epoch 135/500\n",
      "100/100 [==============================] - 0s 996us/step - loss: -13.5437 - mean_squared_error: 0.5829\n",
      "Epoch 136/500\n",
      "100/100 [==============================] - 0s 966us/step - loss: -13.5437 - mean_squared_error: 0.5829\n",
      "Epoch 137/500\n",
      "100/100 [==============================] - 0s 908us/step - loss: -13.5437 - mean_squared_error: 0.5829\n",
      "Epoch 138/500\n",
      "100/100 [==============================] - 0s 888us/step - loss: -13.5437 - mean_squared_error: 0.5829\n",
      "Epoch 139/500\n",
      "100/100 [==============================] - 0s 927us/step - loss: -13.5437 - mean_squared_error: 0.5829\n",
      "Epoch 140/500\n",
      "100/100 [==============================] - 0s 917us/step - loss: -13.5437 - mean_squared_error: 0.5829\n",
      "Epoch 141/500\n",
      "100/100 [==============================] - 0s 927us/step - loss: -13.5437 - mean_squared_error: 0.5829\n",
      "Epoch 142/500\n",
      "100/100 [==============================] - 0s 908us/step - loss: -13.5437 - mean_squared_error: 0.5829\n",
      "Epoch 143/500\n",
      "100/100 [==============================] - 0s 894us/step - loss: -13.5437 - mean_squared_error: 0.5829\n",
      "Epoch 144/500\n",
      "100/100 [==============================] - 0s 898us/step - loss: -13.5437 - mean_squared_error: 0.5829\n",
      "Epoch 145/500\n",
      "100/100 [==============================] - 0s 927us/step - loss: -13.5437 - mean_squared_error: 0.5829\n",
      "Epoch 146/500\n",
      "100/100 [==============================] - 0s 981us/step - loss: -13.5437 - mean_squared_error: 0.5829\n",
      "Epoch 147/500\n",
      "100/100 [==============================] - 0s 884us/step - loss: -13.5437 - mean_squared_error: 0.5829\n",
      "Epoch 148/500\n",
      "100/100 [==============================] - 0s 884us/step - loss: -13.5437 - mean_squared_error: 0.5829\n",
      "Epoch 149/500\n",
      "100/100 [==============================] - 0s 898us/step - loss: -13.5437 - mean_squared_error: 0.5829\n",
      "Epoch 150/500\n",
      "100/100 [==============================] - 0s 917us/step - loss: -13.5437 - mean_squared_error: 0.5829\n",
      "Epoch 151/500\n",
      "100/100 [==============================] - 0s 947us/step - loss: -13.5437 - mean_squared_error: 0.5829\n",
      "Epoch 152/500\n",
      "100/100 [==============================] - 0s 869us/step - loss: -13.5437 - mean_squared_error: 0.5829\n",
      "Epoch 153/500\n",
      "100/100 [==============================] - 0s 859us/step - loss: -13.5437 - mean_squared_error: 0.5829\n",
      "Epoch 154/500\n",
      "100/100 [==============================] - 0s 966us/step - loss: -13.5437 - mean_squared_error: 0.5829\n",
      "Epoch 155/500\n",
      "100/100 [==============================] - 0s 898us/step - loss: -13.5437 - mean_squared_error: 0.5829\n",
      "Epoch 156/500\n",
      "100/100 [==============================] - 0s 898us/step - loss: -13.5437 - mean_squared_error: 0.5829\n",
      "Epoch 157/500\n",
      "100/100 [==============================] - 0s 908us/step - loss: -13.5437 - mean_squared_error: 0.5829\n",
      "Epoch 158/500\n",
      "100/100 [==============================] - 0s 898us/step - loss: -13.5437 - mean_squared_error: 0.5829\n",
      "Epoch 159/500\n",
      "100/100 [==============================] - 0s 898us/step - loss: -13.5437 - mean_squared_error: 0.5829\n",
      "Epoch 160/500\n",
      "100/100 [==============================] - 0s 898us/step - loss: -13.5437 - mean_squared_error: 0.5829\n",
      "Epoch 161/500\n",
      "100/100 [==============================] - 0s 898us/step - loss: -13.5437 - mean_squared_error: 0.5829\n",
      "Epoch 162/500\n",
      "100/100 [==============================] - 0s 888us/step - loss: -13.5437 - mean_squared_error: 0.5829\n",
      "Epoch 163/500\n",
      "100/100 [==============================] - 0s 898us/step - loss: -13.5437 - mean_squared_error: 0.5829\n",
      "Epoch 164/500\n",
      "100/100 [==============================] - 0s 888us/step - loss: -13.5437 - mean_squared_error: 0.5829\n",
      "Epoch 165/500\n",
      "100/100 [==============================] - 0s 1ms/step - loss: -13.5437 - mean_squared_error: 0.5829\n",
      "Epoch 166/500\n",
      "100/100 [==============================] - 0s 898us/step - loss: -13.5437 - mean_squared_error: 0.5829\n",
      "Epoch 167/500\n",
      "100/100 [==============================] - 0s 894us/step - loss: -13.5437 - mean_squared_error: 0.5829\n",
      "Epoch 168/500\n",
      "100/100 [==============================] - 0s 1ms/step - loss: -13.5437 - mean_squared_error: 0.5829\n",
      "Epoch 169/500\n",
      "100/100 [==============================] - 0s 888us/step - loss: -13.5437 - mean_squared_error: 0.5829\n",
      "Epoch 170/500\n",
      "100/100 [==============================] - 0s 888us/step - loss: -13.5437 - mean_squared_error: 0.5829\n",
      "Epoch 171/500\n",
      "100/100 [==============================] - 0s 900us/step - loss: -13.5437 - mean_squared_error: 0.5829\n",
      "Epoch 172/500\n",
      "100/100 [==============================] - 0s 991us/step - loss: -13.5437 - mean_squared_error: 0.5829\n",
      "Epoch 173/500\n",
      "100/100 [==============================] - 0s 898us/step - loss: -13.5437 - mean_squared_error: 0.5829\n",
      "Epoch 174/500\n",
      "100/100 [==============================] - 0s 917us/step - loss: -13.5437 - mean_squared_error: 0.5829\n",
      "Epoch 175/500\n",
      "100/100 [==============================] - 0s 937us/step - loss: -13.5437 - mean_squared_error: 0.5829\n",
      "Epoch 176/500\n",
      "100/100 [==============================] - 0s 908us/step - loss: -13.5437 - mean_squared_error: 0.5829\n",
      "Epoch 177/500\n",
      "100/100 [==============================] - 0s 908us/step - loss: -13.5437 - mean_squared_error: 0.5829\n",
      "Epoch 178/500\n",
      "100/100 [==============================] - 0s 898us/step - loss: -13.5437 - mean_squared_error: 0.5829\n",
      "Epoch 179/500\n",
      "100/100 [==============================] - 0s 966us/step - loss: -13.5437 - mean_squared_error: 0.5829\n",
      "Epoch 180/500\n",
      "100/100 [==============================] - 0s 898us/step - loss: -13.5437 - mean_squared_error: 0.5829\n",
      "Epoch 181/500\n",
      "100/100 [==============================] - 0s 917us/step - loss: -13.5437 - mean_squared_error: 0.5829\n",
      "Epoch 182/500\n",
      "100/100 [==============================] - 0s 898us/step - loss: -13.5437 - mean_squared_error: 0.5829\n",
      "Epoch 183/500\n",
      "100/100 [==============================] - 0s 917us/step - loss: -13.5437 - mean_squared_error: 0.5829\n",
      "Epoch 184/500\n",
      "100/100 [==============================] - 0s 917us/step - loss: -13.5437 - mean_squared_error: 0.5829\n",
      "Epoch 185/500\n",
      "100/100 [==============================] - 0s 898us/step - loss: -13.5437 - mean_squared_error: 0.5829\n",
      "Epoch 186/500\n",
      "100/100 [==============================] - 0s 927us/step - loss: -13.5437 - mean_squared_error: 0.5829\n",
      "Epoch 187/500\n",
      "100/100 [==============================] - 0s 908us/step - loss: -13.5437 - mean_squared_error: 0.5829\n",
      "Epoch 188/500\n",
      "100/100 [==============================] - 0s 937us/step - loss: -13.5437 - mean_squared_error: 0.5829\n",
      "Epoch 189/500\n",
      "100/100 [==============================] - 0s 887us/step - loss: -13.5437 - mean_squared_error: 0.5829\n",
      "Epoch 190/500\n",
      "100/100 [==============================] - 0s 976us/step - loss: -13.5437 - mean_squared_error: 0.5829\n",
      "Epoch 191/500\n",
      "100/100 [==============================] - 0s 898us/step - loss: -13.5437 - mean_squared_error: 0.5829\n",
      "Epoch 192/500\n",
      "100/100 [==============================] - 0s 975us/step - loss: -13.5437 - mean_squared_error: 0.5829\n",
      "Epoch 193/500\n",
      "100/100 [==============================] - 0s 955us/step - loss: -13.5437 - mean_squared_error: 0.5829\n",
      "Epoch 194/500\n",
      "100/100 [==============================] - 0s 973us/step - loss: -13.5437 - mean_squared_error: 0.5829\n",
      "Epoch 195/500\n",
      "100/100 [==============================] - 0s 956us/step - loss: -13.5437 - mean_squared_error: 0.5829\n",
      "Epoch 196/500\n",
      "100/100 [==============================] - 0s 947us/step - loss: -13.5437 - mean_squared_error: 0.5829\n",
      "Epoch 197/500\n",
      "100/100 [==============================] - 0s 917us/step - loss: -13.5437 - mean_squared_error: 0.5829\n",
      "Epoch 198/500\n",
      "100/100 [==============================] - 0s 937us/step - loss: -13.5437 - mean_squared_error: 0.5829\n",
      "Epoch 199/500\n",
      "100/100 [==============================] - 0s 927us/step - loss: -13.5437 - mean_squared_error: 0.5829\n",
      "Epoch 200/500\n",
      "100/100 [==============================] - 0s 976us/step - loss: -13.5437 - mean_squared_error: 0.5829\n",
      "Epoch 201/500\n",
      "100/100 [==============================] - 0s 1ms/step - loss: -13.5437 - mean_squared_error: 0.5829\n",
      "Epoch 202/500\n",
      "100/100 [==============================] - 0s 917us/step - loss: -13.5437 - mean_squared_error: 0.5829\n",
      "Epoch 203/500\n",
      "100/100 [==============================] - 0s 1ms/step - loss: -13.5437 - mean_squared_error: 0.5829\n",
      "Epoch 204/500\n",
      "100/100 [==============================] - 0s 1ms/step - loss: -13.5437 - mean_squared_error: 0.5829\n",
      "Epoch 205/500\n",
      "100/100 [==============================] - 0s 1ms/step - loss: -13.5437 - mean_squared_error: 0.5829\n",
      "Epoch 206/500\n",
      "100/100 [==============================] - 0s 1ms/step - loss: -13.5437 - mean_squared_error: 0.5829\n",
      "Epoch 207/500\n",
      "100/100 [==============================] - 0s 976us/step - loss: -13.5437 - mean_squared_error: 0.5829\n",
      "Epoch 208/500\n",
      "100/100 [==============================] - 0s 976us/step - loss: -13.5437 - mean_squared_error: 0.5829\n",
      "Epoch 209/500\n",
      "100/100 [==============================] - 0s 932us/step - loss: -13.5437 - mean_squared_error: 0.5829\n",
      "Epoch 210/500\n",
      "100/100 [==============================] - 0s 992us/step - loss: -13.5437 - mean_squared_error: 0.5829\n",
      "Epoch 211/500\n",
      "100/100 [==============================] - 0s 976us/step - loss: -13.5437 - mean_squared_error: 0.5829\n",
      "Epoch 212/500\n",
      "100/100 [==============================] - 0s 898us/step - loss: -13.5437 - mean_squared_error: 0.5829\n",
      "Epoch 213/500\n",
      "100/100 [==============================] - 0s 923us/step - loss: -13.5437 - mean_squared_error: 0.5829\n",
      "Epoch 214/500\n",
      "100/100 [==============================] - 0s 942us/step - loss: -13.5437 - mean_squared_error: 0.5829\n",
      "Epoch 215/500\n",
      "100/100 [==============================] - 0s 913us/step - loss: -13.5437 - mean_squared_error: 0.5829\n",
      "Epoch 216/500\n",
      "100/100 [==============================] - 0s 936us/step - loss: -13.5437 - mean_squared_error: 0.5829\n",
      "Epoch 217/500\n",
      "100/100 [==============================] - 0s 933us/step - loss: -13.5437 - mean_squared_error: 0.5829\n",
      "Epoch 218/500\n",
      "100/100 [==============================] - 0s 933us/step - loss: -13.5437 - mean_squared_error: 0.5829\n",
      "Epoch 219/500\n",
      "100/100 [==============================] - 0s 937us/step - loss: -13.5437 - mean_squared_error: 0.5829\n",
      "Epoch 220/500\n",
      "100/100 [==============================] - 0s 956us/step - loss: -13.5437 - mean_squared_error: 0.5829\n",
      "Epoch 221/500\n",
      "100/100 [==============================] - 0s 937us/step - loss: -13.5437 - mean_squared_error: 0.5829\n",
      "Epoch 222/500\n",
      "100/100 [==============================] - 0s 898us/step - loss: -13.5437 - mean_squared_error: 0.5829\n",
      "Epoch 223/500\n",
      "100/100 [==============================] - 0s 898us/step - loss: -13.5437 - mean_squared_error: 0.5829\n",
      "Epoch 224/500\n",
      "100/100 [==============================] - 0s 908us/step - loss: -13.5437 - mean_squared_error: 0.5829\n",
      "Epoch 225/500\n",
      "100/100 [==============================] - 0s 869us/step - loss: -13.5437 - mean_squared_error: 0.5829\n",
      "Epoch 226/500\n",
      "100/100 [==============================] - 0s 917us/step - loss: -13.5437 - mean_squared_error: 0.5829\n",
      "Epoch 227/500\n",
      "100/100 [==============================] - 0s 966us/step - loss: -13.5437 - mean_squared_error: 0.5829\n",
      "Epoch 228/500\n",
      "100/100 [==============================] - 0s 888us/step - loss: -13.5437 - mean_squared_error: 0.5829\n",
      "Epoch 229/500\n",
      "100/100 [==============================] - 0s 869us/step - loss: -13.5437 - mean_squared_error: 0.5829\n",
      "Epoch 230/500\n",
      "100/100 [==============================] - 0s 859us/step - loss: -13.5437 - mean_squared_error: 0.5829\n",
      "Epoch 231/500\n",
      "100/100 [==============================] - 0s 898us/step - loss: -13.5437 - mean_squared_error: 0.5829\n",
      "Epoch 232/500\n",
      "100/100 [==============================] - 0s 937us/step - loss: -13.5437 - mean_squared_error: 0.5829\n",
      "Epoch 233/500\n",
      "100/100 [==============================] - 0s 891us/step - loss: -13.5437 - mean_squared_error: 0.5829\n",
      "Epoch 234/500\n",
      "100/100 [==============================] - 0s 869us/step - loss: -13.5437 - mean_squared_error: 0.5829\n",
      "Epoch 235/500\n",
      "100/100 [==============================] - 0s 937us/step - loss: -13.5437 - mean_squared_error: 0.5829\n",
      "Epoch 236/500\n",
      "100/100 [==============================] - 0s 899us/step - loss: -13.5437 - mean_squared_error: 0.5829\n",
      "Epoch 237/500\n",
      "100/100 [==============================] - 0s 944us/step - loss: -13.5437 - mean_squared_error: 0.5829\n",
      "Epoch 238/500\n",
      "100/100 [==============================] - 0s 1ms/step - loss: -13.5437 - mean_squared_error: 0.5829\n",
      "Epoch 239/500\n",
      "100/100 [==============================] - 0s 2ms/step - loss: -13.5437 - mean_squared_error: 0.5829\n",
      "Epoch 240/500\n",
      "100/100 [==============================] - 0s 877us/step - loss: -13.5437 - mean_squared_error: 0.5829\n",
      "Epoch 241/500\n",
      "100/100 [==============================] - 0s 917us/step - loss: -13.5437 - mean_squared_error: 0.5829\n",
      "Epoch 242/500\n",
      "100/100 [==============================] - 0s 937us/step - loss: -13.5437 - mean_squared_error: 0.5829\n",
      "Epoch 243/500\n",
      "100/100 [==============================] - 0s 917us/step - loss: -13.5437 - mean_squared_error: 0.5829\n",
      "Epoch 244/500\n",
      "100/100 [==============================] - 0s 908us/step - loss: -13.5437 - mean_squared_error: 0.5829\n",
      "Epoch 245/500\n",
      "100/100 [==============================] - 0s 927us/step - loss: -13.5437 - mean_squared_error: 0.5829\n",
      "Epoch 246/500\n",
      "100/100 [==============================] - 0s 908us/step - loss: -13.5437 - mean_squared_error: 0.5829\n",
      "Epoch 247/500\n",
      "100/100 [==============================] - 0s 956us/step - loss: -13.5437 - mean_squared_error: 0.5829\n",
      "Epoch 248/500\n",
      "100/100 [==============================] - 0s 908us/step - loss: -13.5437 - mean_squared_error: 0.5829\n",
      "Epoch 249/500\n",
      "100/100 [==============================] - 0s 908us/step - loss: -13.5437 - mean_squared_error: 0.5829\n",
      "Epoch 250/500\n",
      "100/100 [==============================] - 0s 1ms/step - loss: -13.5437 - mean_squared_error: 0.5829\n",
      "Epoch 251/500\n",
      "100/100 [==============================] - 0s 1ms/step - loss: -13.5437 - mean_squared_error: 0.5829\n",
      "Epoch 252/500\n",
      "100/100 [==============================] - 0s 1ms/step - loss: -13.5437 - mean_squared_error: 0.5829\n",
      "Epoch 253/500\n",
      "100/100 [==============================] - 0s 1ms/step - loss: -13.5437 - mean_squared_error: 0.5829\n",
      "Epoch 254/500\n",
      "100/100 [==============================] - 0s 947us/step - loss: -13.5437 - mean_squared_error: 0.5829\n",
      "Epoch 255/500\n",
      "100/100 [==============================] - 0s 952us/step - loss: -13.5437 - mean_squared_error: 0.5829\n",
      "Epoch 256/500\n",
      "100/100 [==============================] - 0s 1ms/step - loss: -13.5437 - mean_squared_error: 0.5829\n",
      "Epoch 257/500\n",
      "100/100 [==============================] - 0s 946us/step - loss: -13.5437 - mean_squared_error: 0.5829\n",
      "Epoch 258/500\n",
      "100/100 [==============================] - 0s 956us/step - loss: -13.5437 - mean_squared_error: 0.5829\n",
      "Epoch 259/500\n",
      "100/100 [==============================] - 0s 1ms/step - loss: -13.5437 - mean_squared_error: 0.5829\n",
      "Epoch 260/500\n",
      "100/100 [==============================] - 0s 1ms/step - loss: -13.5437 - mean_squared_error: 0.5829\n",
      "Epoch 261/500\n",
      "100/100 [==============================] - 0s 1ms/step - loss: -13.5437 - mean_squared_error: 0.5829\n",
      "Epoch 262/500\n",
      "100/100 [==============================] - 0s 1ms/step - loss: -13.5437 - mean_squared_error: 0.5829\n",
      "Epoch 263/500\n",
      "100/100 [==============================] - 0s 1ms/step - loss: -13.5437 - mean_squared_error: 0.5829\n",
      "Epoch 264/500\n",
      "100/100 [==============================] - 0s 966us/step - loss: -13.5437 - mean_squared_error: 0.5829\n",
      "Epoch 265/500\n",
      "100/100 [==============================] - 0s 1ms/step - loss: -13.5437 - mean_squared_error: 0.5829\n",
      "Epoch 266/500\n",
      "100/100 [==============================] - 0s 976us/step - loss: -13.5437 - mean_squared_error: 0.5829\n",
      "Epoch 267/500\n",
      "100/100 [==============================] - 0s 966us/step - loss: -13.5437 - mean_squared_error: 0.5829\n",
      "Epoch 268/500\n",
      "100/100 [==============================] - 0s 956us/step - loss: -13.5437 - mean_squared_error: 0.5829\n",
      "Epoch 269/500\n",
      "100/100 [==============================] - 0s 956us/step - loss: -13.5437 - mean_squared_error: 0.5829\n",
      "Epoch 270/500\n",
      "100/100 [==============================] - 0s 1ms/step - loss: -13.5437 - mean_squared_error: 0.5829\n",
      "Epoch 271/500\n",
      "100/100 [==============================] - 0s 1ms/step - loss: -13.5437 - mean_squared_error: 0.5829\n",
      "Epoch 272/500\n",
      "100/100 [==============================] - 0s 1ms/step - loss: -13.5437 - mean_squared_error: 0.5829\n",
      "Epoch 273/500\n",
      "100/100 [==============================] - 0s 1ms/step - loss: -13.5437 - mean_squared_error: 0.5829\n",
      "Epoch 274/500\n",
      "100/100 [==============================] - 0s 1ms/step - loss: -13.5437 - mean_squared_error: 0.5829\n",
      "Epoch 275/500\n",
      "100/100 [==============================] - 0s 1ms/step - loss: -13.5437 - mean_squared_error: 0.5829\n",
      "Epoch 276/500\n",
      "100/100 [==============================] - 0s 1ms/step - loss: -13.5437 - mean_squared_error: 0.5829\n",
      "Epoch 277/500\n",
      "100/100 [==============================] - 0s 1ms/step - loss: -13.5437 - mean_squared_error: 0.5829\n",
      "Epoch 278/500\n",
      "100/100 [==============================] - 0s 1ms/step - loss: -13.5437 - mean_squared_error: 0.5829\n",
      "Epoch 279/500\n",
      "100/100 [==============================] - 0s 1ms/step - loss: -13.5437 - mean_squared_error: 0.5829\n",
      "Epoch 280/500\n",
      "100/100 [==============================] - 0s 1ms/step - loss: -13.5437 - mean_squared_error: 0.5829\n",
      "Epoch 281/500\n",
      "100/100 [==============================] - 0s 1ms/step - loss: -13.5437 - mean_squared_error: 0.5829\n",
      "Epoch 282/500\n",
      "100/100 [==============================] - 0s 947us/step - loss: -13.5437 - mean_squared_error: 0.5829\n",
      "Epoch 283/500\n",
      "100/100 [==============================] - 0s 937us/step - loss: -13.5437 - mean_squared_error: 0.5829\n",
      "Epoch 284/500\n",
      "100/100 [==============================] - 0s 1ms/step - loss: -13.5437 - mean_squared_error: 0.5829\n",
      "Epoch 285/500\n",
      "100/100 [==============================] - 0s 1ms/step - loss: -13.5437 - mean_squared_error: 0.5829\n",
      "Epoch 286/500\n",
      "100/100 [==============================] - 0s 1ms/step - loss: -13.5437 - mean_squared_error: 0.5829\n",
      "Epoch 287/500\n",
      "100/100 [==============================] - 0s 1ms/step - loss: -13.5437 - mean_squared_error: 0.5829\n",
      "Epoch 288/500\n",
      "100/100 [==============================] - 0s 1ms/step - loss: -13.5437 - mean_squared_error: 0.5829\n",
      "Epoch 289/500\n",
      "100/100 [==============================] - 0s 1ms/step - loss: -13.5437 - mean_squared_error: 0.5829\n",
      "Epoch 290/500\n",
      "100/100 [==============================] - 0s 1ms/step - loss: -13.5437 - mean_squared_error: 0.5829\n",
      "Epoch 291/500\n",
      "100/100 [==============================] - 0s 1ms/step - loss: -13.5437 - mean_squared_error: 0.5829\n",
      "Epoch 292/500\n",
      "100/100 [==============================] - 0s 1ms/step - loss: -13.5437 - mean_squared_error: 0.5829\n",
      "Epoch 293/500\n",
      "100/100 [==============================] - 0s 1ms/step - loss: -13.5437 - mean_squared_error: 0.5829\n",
      "Epoch 294/500\n",
      "100/100 [==============================] - 0s 1ms/step - loss: -13.5437 - mean_squared_error: 0.5829\n",
      "Epoch 295/500\n",
      "100/100 [==============================] - 0s 937us/step - loss: -13.5437 - mean_squared_error: 0.5829\n",
      "Epoch 296/500\n",
      "100/100 [==============================] - 0s 947us/step - loss: -13.5437 - mean_squared_error: 0.5829\n",
      "Epoch 297/500\n",
      "100/100 [==============================] - 0s 947us/step - loss: -13.5437 - mean_squared_error: 0.5829\n",
      "Epoch 298/500\n",
      "100/100 [==============================] - 0s 917us/step - loss: -13.5437 - mean_squared_error: 0.5829\n",
      "Epoch 299/500\n",
      "100/100 [==============================] - 0s 965us/step - loss: -13.5437 - mean_squared_error: 0.5829\n",
      "Epoch 300/500\n",
      "100/100 [==============================] - 0s 1ms/step - loss: -13.5437 - mean_squared_error: 0.5829\n",
      "Epoch 301/500\n",
      "100/100 [==============================] - 0s 1ms/step - loss: -13.5437 - mean_squared_error: 0.5829\n",
      "Epoch 302/500\n",
      "100/100 [==============================] - 0s 1ms/step - loss: -13.5437 - mean_squared_error: 0.5829\n",
      "Epoch 303/500\n",
      "100/100 [==============================] - 0s 1ms/step - loss: -13.5437 - mean_squared_error: 0.5829\n",
      "Epoch 304/500\n",
      "100/100 [==============================] - 0s 1ms/step - loss: -13.5437 - mean_squared_error: 0.5829\n",
      "Epoch 305/500\n",
      "100/100 [==============================] - 0s 1ms/step - loss: -13.5437 - mean_squared_error: 0.5829\n",
      "Epoch 306/500\n",
      "100/100 [==============================] - 0s 1ms/step - loss: -13.5437 - mean_squared_error: 0.5829\n",
      "Epoch 307/500\n",
      "100/100 [==============================] - 0s 996us/step - loss: -13.5437 - mean_squared_error: 0.5829\n",
      "Epoch 308/500\n",
      "100/100 [==============================] - 0s 898us/step - loss: -13.5437 - mean_squared_error: 0.5829\n",
      "Epoch 309/500\n",
      "100/100 [==============================] - 0s 1ms/step - loss: -13.5437 - mean_squared_error: 0.5829\n",
      "Epoch 310/500\n",
      "100/100 [==============================] - 0s 1ms/step - loss: -13.5437 - mean_squared_error: 0.5829\n",
      "Epoch 311/500\n",
      "100/100 [==============================] - 0s 1ms/step - loss: -13.5437 - mean_squared_error: 0.5829\n",
      "Epoch 312/500\n",
      "100/100 [==============================] - 0s 1ms/step - loss: -13.5437 - mean_squared_error: 0.5829\n",
      "Epoch 313/500\n",
      "100/100 [==============================] - 0s 1ms/step - loss: -13.5437 - mean_squared_error: 0.5829\n",
      "Epoch 314/500\n",
      "100/100 [==============================] - 0s 1ms/step - loss: -13.5437 - mean_squared_error: 0.5829\n",
      "Epoch 315/500\n",
      "100/100 [==============================] - 0s 1ms/step - loss: -13.5437 - mean_squared_error: 0.5829\n",
      "Epoch 316/500\n",
      "100/100 [==============================] - 0s 996us/step - loss: -13.5437 - mean_squared_error: 0.5829\n",
      "Epoch 317/500\n",
      "100/100 [==============================] - 0s 1ms/step - loss: -13.5437 - mean_squared_error: 0.5829\n",
      "Epoch 318/500\n",
      "100/100 [==============================] - 0s 849us/step - loss: -13.5437 - mean_squared_error: 0.5829\n",
      "Epoch 319/500\n",
      "100/100 [==============================] - 0s 908us/step - loss: -13.5437 - mean_squared_error: 0.5829\n",
      "Epoch 320/500\n",
      "100/100 [==============================] - 0s 855us/step - loss: -13.5437 - mean_squared_error: 0.5829\n",
      "Epoch 321/500\n",
      "100/100 [==============================] - 0s 917us/step - loss: -13.5437 - mean_squared_error: 0.5829\n",
      "Epoch 322/500\n",
      "100/100 [==============================] - 0s 1ms/step - loss: -13.5437 - mean_squared_error: 0.5829\n",
      "Epoch 323/500\n",
      "100/100 [==============================] - 0s 1ms/step - loss: -13.5437 - mean_squared_error: 0.5829\n",
      "Epoch 324/500\n",
      "100/100 [==============================] - 0s 1ms/step - loss: -13.5437 - mean_squared_error: 0.5829\n",
      "Epoch 325/500\n",
      "100/100 [==============================] - 0s 1ms/step - loss: -13.5437 - mean_squared_error: 0.5829\n",
      "Epoch 326/500\n",
      "100/100 [==============================] - 0s 996us/step - loss: -13.5437 - mean_squared_error: 0.5829\n",
      "Epoch 327/500\n",
      "100/100 [==============================] - 0s 996us/step - loss: -13.5437 - mean_squared_error: 0.5829\n",
      "Epoch 328/500\n",
      "100/100 [==============================] - 0s 946us/step - loss: -13.5437 - mean_squared_error: 0.5829\n",
      "Epoch 329/500\n",
      "100/100 [==============================] - 0s 867us/step - loss: -13.5437 - mean_squared_error: 0.5829\n",
      "Epoch 330/500\n",
      "100/100 [==============================] - 0s 869us/step - loss: -13.5437 - mean_squared_error: 0.5829\n",
      "Epoch 331/500\n",
      "100/100 [==============================] - 0s 1ms/step - loss: -13.5437 - mean_squared_error: 0.5829\n",
      "Epoch 332/500\n",
      "100/100 [==============================] - 0s 1ms/step - loss: -13.5437 - mean_squared_error: 0.5829\n",
      "Epoch 333/500\n",
      "100/100 [==============================] - 0s 1ms/step - loss: -13.5437 - mean_squared_error: 0.5829\n",
      "Epoch 334/500\n",
      "100/100 [==============================] - 0s 1ms/step - loss: -13.5437 - mean_squared_error: 0.5829\n",
      "Epoch 335/500\n",
      "100/100 [==============================] - 0s 1ms/step - loss: -13.5437 - mean_squared_error: 0.5829\n",
      "Epoch 336/500\n",
      "100/100 [==============================] - 0s 1ms/step - loss: -13.5437 - mean_squared_error: 0.5829\n",
      "Epoch 337/500\n",
      "100/100 [==============================] - 0s 1ms/step - loss: -13.5437 - mean_squared_error: 0.5829\n",
      "Epoch 338/500\n",
      "100/100 [==============================] - 0s 1ms/step - loss: -13.5437 - mean_squared_error: 0.5829\n",
      "Epoch 339/500\n",
      "100/100 [==============================] - 0s 859us/step - loss: -13.5437 - mean_squared_error: 0.5829\n",
      "Epoch 340/500\n",
      "100/100 [==============================] - 0s 859us/step - loss: -13.5437 - mean_squared_error: 0.5829\n",
      "Epoch 341/500\n",
      "100/100 [==============================] - 0s 1ms/step - loss: -13.5437 - mean_squared_error: 0.5829\n",
      "Epoch 342/500\n",
      "100/100 [==============================] - 0s 1ms/step - loss: -13.5437 - mean_squared_error: 0.5829\n",
      "Epoch 343/500\n",
      "100/100 [==============================] - 0s 1ms/step - loss: -13.5437 - mean_squared_error: 0.5829\n",
      "Epoch 344/500\n",
      "100/100 [==============================] - 0s 1ms/step - loss: -13.5437 - mean_squared_error: 0.5829\n",
      "Epoch 345/500\n",
      "100/100 [==============================] - 0s 878us/step - loss: -13.5437 - mean_squared_error: 0.5829\n",
      "Epoch 346/500\n",
      "100/100 [==============================] - 0s 888us/step - loss: -13.5437 - mean_squared_error: 0.5829\n",
      "Epoch 347/500\n",
      "100/100 [==============================] - 0s 898us/step - loss: -13.5437 - mean_squared_error: 0.5829\n",
      "Epoch 348/500\n",
      "100/100 [==============================] - 0s 947us/step - loss: -13.5437 - mean_squared_error: 0.5829\n",
      "Epoch 349/500\n",
      "100/100 [==============================] - 0s 869us/step - loss: -13.5437 - mean_squared_error: 0.5829\n",
      "Epoch 350/500\n",
      "100/100 [==============================] - 0s 849us/step - loss: -13.5437 - mean_squared_error: 0.5829\n",
      "Epoch 351/500\n",
      "100/100 [==============================] - 0s 820us/step - loss: -13.5437 - mean_squared_error: 0.5829\n",
      "Epoch 352/500\n",
      "100/100 [==============================] - 0s 894us/step - loss: -13.5437 - mean_squared_error: 0.5829\n",
      "Epoch 353/500\n",
      "100/100 [==============================] - 0s 864us/step - loss: -13.5437 - mean_squared_error: 0.5829\n",
      "Epoch 354/500\n",
      "100/100 [==============================] - 0s 835us/step - loss: -13.5437 - mean_squared_error: 0.5829\n",
      "Epoch 355/500\n",
      "100/100 [==============================] - 0s 878us/step - loss: -13.5437 - mean_squared_error: 0.5829\n",
      "Epoch 356/500\n",
      "100/100 [==============================] - 0s 839us/step - loss: -13.5437 - mean_squared_error: 0.5829\n",
      "Epoch 357/500\n",
      "100/100 [==============================] - 0s 865us/step - loss: -13.5437 - mean_squared_error: 0.5829\n",
      "Epoch 358/500\n",
      "100/100 [==============================] - 0s 888us/step - loss: -13.5437 - mean_squared_error: 0.5829\n",
      "Epoch 359/500\n",
      "100/100 [==============================] - 0s 847us/step - loss: -13.5437 - mean_squared_error: 0.5829\n",
      "Epoch 360/500\n",
      "100/100 [==============================] - 0s 828us/step - loss: -13.5437 - mean_squared_error: 0.5829\n",
      "Epoch 361/500\n",
      "100/100 [==============================] - 0s 830us/step - loss: -13.5437 - mean_squared_error: 0.5829\n",
      "Epoch 362/500\n",
      "100/100 [==============================] - 0s 830us/step - loss: -13.5437 - mean_squared_error: 0.5829\n",
      "Epoch 363/500\n",
      "100/100 [==============================] - 0s 830us/step - loss: -13.5437 - mean_squared_error: 0.5829\n",
      "Epoch 364/500\n",
      "100/100 [==============================] - 0s 849us/step - loss: -13.5437 - mean_squared_error: 0.5829\n",
      "Epoch 365/500\n",
      "100/100 [==============================] - 0s 839us/step - loss: -13.5437 - mean_squared_error: 0.5829\n",
      "Epoch 366/500\n",
      "100/100 [==============================] - 0s 859us/step - loss: -13.5437 - mean_squared_error: 0.5829\n",
      "Epoch 367/500\n",
      "100/100 [==============================] - 0s 878us/step - loss: -13.5437 - mean_squared_error: 0.5829\n",
      "Epoch 368/500\n",
      "100/100 [==============================] - 0s 849us/step - loss: -13.5437 - mean_squared_error: 0.5829\n",
      "Epoch 369/500\n",
      "100/100 [==============================] - 0s 908us/step - loss: -13.5437 - mean_squared_error: 0.5829\n",
      "Epoch 370/500\n",
      "100/100 [==============================] - 0s 878us/step - loss: -13.5437 - mean_squared_error: 0.5829\n",
      "Epoch 371/500\n",
      "100/100 [==============================] - 0s 839us/step - loss: -13.5437 - mean_squared_error: 0.5829\n",
      "Epoch 372/500\n",
      "100/100 [==============================] - 0s 830us/step - loss: -13.5437 - mean_squared_error: 0.5829\n",
      "Epoch 373/500\n",
      "100/100 [==============================] - 0s 839us/step - loss: -13.5437 - mean_squared_error: 0.5829\n",
      "Epoch 374/500\n",
      "100/100 [==============================] - 0s 869us/step - loss: -13.5437 - mean_squared_error: 0.5829\n",
      "Epoch 375/500\n",
      "100/100 [==============================] - 0s 859us/step - loss: -13.5437 - mean_squared_error: 0.5829\n",
      "Epoch 376/500\n",
      "100/100 [==============================] - 0s 849us/step - loss: -13.5437 - mean_squared_error: 0.5829\n",
      "Epoch 377/500\n",
      "100/100 [==============================] - 0s 839us/step - loss: -13.5437 - mean_squared_error: 0.5829\n",
      "Epoch 378/500\n",
      "100/100 [==============================] - 0s 849us/step - loss: -13.5437 - mean_squared_error: 0.5829\n",
      "Epoch 379/500\n",
      "100/100 [==============================] - 0s 839us/step - loss: -13.5437 - mean_squared_error: 0.5829\n",
      "Epoch 380/500\n",
      "100/100 [==============================] - 0s 817us/step - loss: -13.5437 - mean_squared_error: 0.5829\n",
      "Epoch 381/500\n",
      "100/100 [==============================] - 0s 878us/step - loss: -13.5437 - mean_squared_error: 0.5829\n",
      "Epoch 382/500\n",
      "100/100 [==============================] - 0s 976us/step - loss: -13.5437 - mean_squared_error: 0.5829\n",
      "Epoch 383/500\n",
      "100/100 [==============================] - 0s 947us/step - loss: -13.5437 - mean_squared_error: 0.5829\n",
      "Epoch 384/500\n",
      "100/100 [==============================] - 0s 956us/step - loss: -13.5437 - mean_squared_error: 0.5829\n",
      "Epoch 385/500\n",
      "100/100 [==============================] - 0s 1ms/step - loss: -13.5437 - mean_squared_error: 0.5829\n",
      "Epoch 386/500\n",
      "100/100 [==============================] - 0s 996us/step - loss: -13.5437 - mean_squared_error: 0.5829\n",
      "Epoch 387/500\n",
      "100/100 [==============================] - 0s 1ms/step - loss: -13.5437 - mean_squared_error: 0.5829\n",
      "Epoch 388/500\n",
      "100/100 [==============================] - 0s 1ms/step - loss: -13.5437 - mean_squared_error: 0.5829\n",
      "Epoch 389/500\n",
      "100/100 [==============================] - 0s 1ms/step - loss: -13.5437 - mean_squared_error: 0.5829\n",
      "Epoch 390/500\n",
      "100/100 [==============================] - 0s 1ms/step - loss: -13.5437 - mean_squared_error: 0.5829\n",
      "Epoch 391/500\n",
      "100/100 [==============================] - 0s 1ms/step - loss: -13.5437 - mean_squared_error: 0.5829\n",
      "Epoch 392/500\n",
      "100/100 [==============================] - 0s 1ms/step - loss: -13.5437 - mean_squared_error: 0.5829\n",
      "Epoch 393/500\n",
      "100/100 [==============================] - 0s 1ms/step - loss: -13.5437 - mean_squared_error: 0.5829\n",
      "Epoch 394/500\n",
      "100/100 [==============================] - 0s 957us/step - loss: -13.5437 - mean_squared_error: 0.5829\n",
      "Epoch 395/500\n",
      "100/100 [==============================] - 0s 1ms/step - loss: -13.5437 - mean_squared_error: 0.5829\n",
      "Epoch 396/500\n",
      "100/100 [==============================] - 0s 1ms/step - loss: -13.5437 - mean_squared_error: 0.5829\n",
      "Epoch 397/500\n",
      "100/100 [==============================] - 0s 984us/step - loss: -13.5437 - mean_squared_error: 0.5829\n",
      "Epoch 398/500\n",
      "100/100 [==============================] - 0s 976us/step - loss: -13.5437 - mean_squared_error: 0.5829\n",
      "Epoch 399/500\n",
      "100/100 [==============================] - 0s 956us/step - loss: -13.5437 - mean_squared_error: 0.5829\n",
      "Epoch 400/500\n",
      "100/100 [==============================] - 0s 1ms/step - loss: -13.5437 - mean_squared_error: 0.5829\n",
      "Epoch 401/500\n",
      "100/100 [==============================] - 0s 992us/step - loss: -13.5437 - mean_squared_error: 0.5829\n",
      "Epoch 402/500\n",
      "100/100 [==============================] - 0s 1ms/step - loss: -13.5437 - mean_squared_error: 0.5829\n",
      "Epoch 403/500\n",
      "100/100 [==============================] - 0s 1ms/step - loss: -13.5437 - mean_squared_error: 0.5829\n",
      "Epoch 404/500\n",
      "100/100 [==============================] - 0s 1ms/step - loss: -13.5437 - mean_squared_error: 0.5829\n",
      "Epoch 405/500\n",
      "100/100 [==============================] - 0s 976us/step - loss: -13.5437 - mean_squared_error: 0.5829\n",
      "Epoch 406/500\n",
      "100/100 [==============================] - 0s 947us/step - loss: -13.5437 - mean_squared_error: 0.5829\n",
      "Epoch 407/500\n",
      "100/100 [==============================] - 0s 1ms/step - loss: -13.5437 - mean_squared_error: 0.5829\n",
      "Epoch 408/500\n",
      "100/100 [==============================] - 0s 2ms/step - loss: -13.5437 - mean_squared_error: 0.5829\n",
      "Epoch 409/500\n",
      "100/100 [==============================] - 0s 1ms/step - loss: -13.5437 - mean_squared_error: 0.5829\n",
      "Epoch 410/500\n",
      "100/100 [==============================] - 0s 2ms/step - loss: -13.5437 - mean_squared_error: 0.5829\n",
      "Epoch 411/500\n",
      "100/100 [==============================] - 0s 2ms/step - loss: -13.5437 - mean_squared_error: 0.5829\n",
      "Epoch 412/500\n",
      "100/100 [==============================] - 0s 2ms/step - loss: -13.5437 - mean_squared_error: 0.5829\n",
      "Epoch 413/500\n",
      "100/100 [==============================] - 0s 1ms/step - loss: -13.5437 - mean_squared_error: 0.5829\n",
      "Epoch 414/500\n",
      "100/100 [==============================] - 0s 1ms/step - loss: -13.5437 - mean_squared_error: 0.5829\n",
      "Epoch 415/500\n",
      "100/100 [==============================] - 0s 1ms/step - loss: -13.5437 - mean_squared_error: 0.5829\n",
      "Epoch 416/500\n",
      "100/100 [==============================] - 0s 1ms/step - loss: -13.5437 - mean_squared_error: 0.5829\n",
      "Epoch 417/500\n",
      "100/100 [==============================] - 0s 1ms/step - loss: -13.5437 - mean_squared_error: 0.5829\n",
      "Epoch 418/500\n",
      "100/100 [==============================] - 0s 1ms/step - loss: -13.5437 - mean_squared_error: 0.5829\n",
      "Epoch 419/500\n",
      "100/100 [==============================] - 0s 1ms/step - loss: -13.5437 - mean_squared_error: 0.5829\n",
      "Epoch 420/500\n",
      "100/100 [==============================] - 0s 1ms/step - loss: -13.5437 - mean_squared_error: 0.5829\n",
      "Epoch 421/500\n",
      "100/100 [==============================] - 0s 1ms/step - loss: -13.5437 - mean_squared_error: 0.5829\n",
      "Epoch 422/500\n",
      "100/100 [==============================] - 0s 1ms/step - loss: -13.5437 - mean_squared_error: 0.5829\n",
      "Epoch 423/500\n",
      "100/100 [==============================] - 0s 1ms/step - loss: -13.5437 - mean_squared_error: 0.5829\n",
      "Epoch 424/500\n",
      "100/100 [==============================] - 0s 1ms/step - loss: -13.5437 - mean_squared_error: 0.5829\n",
      "Epoch 425/500\n",
      "100/100 [==============================] - 0s 1ms/step - loss: -13.5437 - mean_squared_error: 0.5829\n",
      "Epoch 426/500\n",
      "100/100 [==============================] - 0s 1ms/step - loss: -13.5437 - mean_squared_error: 0.5829\n",
      "Epoch 427/500\n",
      "100/100 [==============================] - 0s 1ms/step - loss: -13.5437 - mean_squared_error: 0.5829\n",
      "Epoch 428/500\n",
      "100/100 [==============================] - 0s 1ms/step - loss: -13.5437 - mean_squared_error: 0.5829\n",
      "Epoch 429/500\n",
      "100/100 [==============================] - 0s 1ms/step - loss: -13.5437 - mean_squared_error: 0.5829\n",
      "Epoch 430/500\n",
      "100/100 [==============================] - 0s 1ms/step - loss: -13.5437 - mean_squared_error: 0.5829\n",
      "Epoch 431/500\n",
      "100/100 [==============================] - 0s 1ms/step - loss: -13.5437 - mean_squared_error: 0.5829\n",
      "Epoch 432/500\n",
      "100/100 [==============================] - 0s 1ms/step - loss: -13.5437 - mean_squared_error: 0.5829\n",
      "Epoch 433/500\n",
      "100/100 [==============================] - 0s 1ms/step - loss: -13.5437 - mean_squared_error: 0.5829\n",
      "Epoch 434/500\n",
      "100/100 [==============================] - 0s 986us/step - loss: -13.5437 - mean_squared_error: 0.5829\n",
      "Epoch 435/500\n",
      "100/100 [==============================] - 0s 957us/step - loss: -13.5437 - mean_squared_error: 0.5829\n",
      "Epoch 436/500\n",
      "100/100 [==============================] - 0s 923us/step - loss: -13.5437 - mean_squared_error: 0.5829\n",
      "Epoch 437/500\n",
      "100/100 [==============================] - 0s 1ms/step - loss: -13.5437 - mean_squared_error: 0.5829\n",
      "Epoch 438/500\n",
      "100/100 [==============================] - 0s 1ms/step - loss: -13.5437 - mean_squared_error: 0.5829\n",
      "Epoch 439/500\n",
      "100/100 [==============================] - 0s 1ms/step - loss: -13.5437 - mean_squared_error: 0.5829\n",
      "Epoch 440/500\n",
      "100/100 [==============================] - 0s 986us/step - loss: -13.5437 - mean_squared_error: 0.5829\n",
      "Epoch 441/500\n",
      "100/100 [==============================] - 0s 1ms/step - loss: -13.5437 - mean_squared_error: 0.5829\n",
      "Epoch 442/500\n",
      "100/100 [==============================] - 0s 996us/step - loss: -13.5437 - mean_squared_error: 0.5829\n",
      "Epoch 443/500\n",
      "100/100 [==============================] - 0s 1ms/step - loss: -13.5437 - mean_squared_error: 0.5829\n",
      "Epoch 444/500\n",
      "100/100 [==============================] - 0s 1ms/step - loss: -13.5437 - mean_squared_error: 0.5829\n",
      "Epoch 445/500\n",
      "100/100 [==============================] - 0s 986us/step - loss: -13.5437 - mean_squared_error: 0.5829\n",
      "Epoch 446/500\n",
      "100/100 [==============================] - 0s 956us/step - loss: -13.5437 - mean_squared_error: 0.5829\n",
      "Epoch 447/500\n",
      "100/100 [==============================] - 0s 908us/step - loss: -13.5437 - mean_squared_error: 0.5829\n",
      "Epoch 448/500\n",
      "100/100 [==============================] - 0s 869us/step - loss: -13.5437 - mean_squared_error: 0.5829\n",
      "Epoch 449/500\n",
      "100/100 [==============================] - 0s 947us/step - loss: -13.5437 - mean_squared_error: 0.5829\n",
      "Epoch 450/500\n",
      "100/100 [==============================] - 0s 888us/step - loss: -13.5437 - mean_squared_error: 0.5829\n",
      "Epoch 451/500\n",
      "100/100 [==============================] - 0s 887us/step - loss: -13.5437 - mean_squared_error: 0.5829\n",
      "Epoch 452/500\n",
      "100/100 [==============================] - 0s 937us/step - loss: -13.5437 - mean_squared_error: 0.5829\n",
      "Epoch 453/500\n",
      "100/100 [==============================] - 0s 966us/step - loss: -13.5437 - mean_squared_error: 0.5829\n",
      "Epoch 454/500\n",
      "100/100 [==============================] - 0s 916us/step - loss: -13.5437 - mean_squared_error: 0.5829\n",
      "Epoch 455/500\n",
      "100/100 [==============================] - 0s 885us/step - loss: -13.5437 - mean_squared_error: 0.5829\n",
      "Epoch 456/500\n",
      "100/100 [==============================] - 0s 894us/step - loss: -13.5437 - mean_squared_error: 0.5829\n",
      "Epoch 457/500\n",
      "100/100 [==============================] - 0s 888us/step - loss: -13.5437 - mean_squared_error: 0.5829\n",
      "Epoch 458/500\n",
      "100/100 [==============================] - 0s 869us/step - loss: -13.5437 - mean_squared_error: 0.5829\n",
      "Epoch 459/500\n",
      "100/100 [==============================] - 0s 888us/step - loss: -13.5437 - mean_squared_error: 0.5829\n",
      "Epoch 460/500\n",
      "100/100 [==============================] - 0s 937us/step - loss: -13.5437 - mean_squared_error: 0.5829\n",
      "Epoch 461/500\n",
      "100/100 [==============================] - 0s 898us/step - loss: -13.5437 - mean_squared_error: 0.5829\n",
      "Epoch 462/500\n",
      "100/100 [==============================] - 0s 878us/step - loss: -13.5437 - mean_squared_error: 0.5829\n",
      "Epoch 463/500\n",
      "100/100 [==============================] - 0s 888us/step - loss: -13.5437 - mean_squared_error: 0.5829\n",
      "Epoch 464/500\n",
      "100/100 [==============================] - 0s 869us/step - loss: -13.5437 - mean_squared_error: 0.5829\n",
      "Epoch 465/500\n",
      "100/100 [==============================] - 0s 878us/step - loss: -13.5437 - mean_squared_error: 0.5829\n",
      "Epoch 466/500\n",
      "100/100 [==============================] - 0s 908us/step - loss: -13.5437 - mean_squared_error: 0.5829\n",
      "Epoch 467/500\n",
      "100/100 [==============================] - 0s 878us/step - loss: -13.5437 - mean_squared_error: 0.5829\n",
      "Epoch 468/500\n",
      "100/100 [==============================] - 0s 878us/step - loss: -13.5437 - mean_squared_error: 0.5829\n",
      "Epoch 469/500\n",
      "100/100 [==============================] - 0s 878us/step - loss: -13.5437 - mean_squared_error: 0.5829\n",
      "Epoch 470/500\n",
      "100/100 [==============================] - 0s 888us/step - loss: -13.5437 - mean_squared_error: 0.5829\n",
      "Epoch 471/500\n",
      "100/100 [==============================] - 0s 917us/step - loss: -13.5437 - mean_squared_error: 0.5829\n",
      "Epoch 472/500\n",
      "100/100 [==============================] - 0s 1ms/step - loss: -13.5437 - mean_squared_error: 0.5829\n",
      "Epoch 473/500\n",
      "100/100 [==============================] - 0s 966us/step - loss: -13.5437 - mean_squared_error: 0.5829\n",
      "Epoch 474/500\n",
      "100/100 [==============================] - 0s 913us/step - loss: -13.5437 - mean_squared_error: 0.5829\n",
      "Epoch 475/500\n",
      "100/100 [==============================] - 0s 936us/step - loss: -13.5437 - mean_squared_error: 0.5829\n",
      "Epoch 476/500\n",
      "100/100 [==============================] - 0s 996us/step - loss: -13.5437 - mean_squared_error: 0.5829\n",
      "Epoch 477/500\n",
      "100/100 [==============================] - 0s 1ms/step - loss: -13.5437 - mean_squared_error: 0.5829\n",
      "Epoch 478/500\n",
      "100/100 [==============================] - 0s 1ms/step - loss: -13.5437 - mean_squared_error: 0.5829\n",
      "Epoch 479/500\n",
      "100/100 [==============================] - 0s 1ms/step - loss: -13.5437 - mean_squared_error: 0.5829\n",
      "Epoch 480/500\n",
      "100/100 [==============================] - 0s 1ms/step - loss: -13.5437 - mean_squared_error: 0.5829\n",
      "Epoch 481/500\n",
      "100/100 [==============================] - 0s 1ms/step - loss: -13.5437 - mean_squared_error: 0.5829\n",
      "Epoch 482/500\n",
      "100/100 [==============================] - 0s 976us/step - loss: -13.5437 - mean_squared_error: 0.5829\n",
      "Epoch 483/500\n",
      "100/100 [==============================] - 0s 996us/step - loss: -13.5437 - mean_squared_error: 0.5829\n",
      "Epoch 484/500\n",
      "100/100 [==============================] - 0s 1ms/step - loss: -13.5437 - mean_squared_error: 0.5829\n",
      "Epoch 485/500\n",
      "100/100 [==============================] - 0s 986us/step - loss: -13.5437 - mean_squared_error: 0.5829\n",
      "Epoch 486/500\n",
      "100/100 [==============================] - 0s 1ms/step - loss: -13.5437 - mean_squared_error: 0.5829\n",
      "Epoch 487/500\n",
      "100/100 [==============================] - 0s 1ms/step - loss: -13.5437 - mean_squared_error: 0.5829\n",
      "Epoch 488/500\n",
      "100/100 [==============================] - 0s 986us/step - loss: -13.5437 - mean_squared_error: 0.5829\n",
      "Epoch 489/500\n",
      "100/100 [==============================] - 0s 1ms/step - loss: -13.5437 - mean_squared_error: 0.5829\n",
      "Epoch 490/500\n",
      "100/100 [==============================] - 0s 1ms/step - loss: -13.5437 - mean_squared_error: 0.5829\n",
      "Epoch 491/500\n",
      "100/100 [==============================] - 0s 2ms/step - loss: -13.5437 - mean_squared_error: 0.5829\n",
      "Epoch 492/500\n",
      "100/100 [==============================] - 0s 1ms/step - loss: -13.5437 - mean_squared_error: 0.5829\n",
      "Epoch 493/500\n",
      "100/100 [==============================] - 0s 1ms/step - loss: -13.5437 - mean_squared_error: 0.5829\n",
      "Epoch 494/500\n",
      "100/100 [==============================] - 0s 1ms/step - loss: -13.5437 - mean_squared_error: 0.5829\n",
      "Epoch 495/500\n",
      "100/100 [==============================] - 0s 1ms/step - loss: -13.5437 - mean_squared_error: 0.5829\n",
      "Epoch 496/500\n",
      "100/100 [==============================] - 0s 1ms/step - loss: -13.5437 - mean_squared_error: 0.5829\n",
      "Epoch 497/500\n",
      "100/100 [==============================] - 0s 1ms/step - loss: -13.5437 - mean_squared_error: 0.5829\n",
      "Epoch 498/500\n",
      "100/100 [==============================] - 0s 1ms/step - loss: -13.5437 - mean_squared_error: 0.5829\n",
      "Epoch 499/500\n",
      "100/100 [==============================] - 0s 1ms/step - loss: -13.5437 - mean_squared_error: 0.5829\n",
      "Epoch 500/500\n",
      "100/100 [==============================] - 0s 1ms/step - loss: -13.5437 - mean_squared_error: 0.5829\n",
      "0.7654056751990315\n"
     ]
    }
   ],
   "source": [
    "model = Sequential()\n",
    "model.add(Dense(500, input_dim=11, activation='relu'))\n",
    "model.add(Dense(200, activation='sigmoid'))\n",
    "model.add(Dense(50, activation='sigmoid'))\n",
    "model.add(Dense(1))\n",
    "\n",
    "#model.summary()\n",
    "\n",
    "model.compile(loss='binary_crossentropy', optimizer=\"Adam\", metrics=['mean_squared_error'])\n",
    "model.fit(x_train, y_train, epochs=500)\n",
    "\n",
    "nn_y_pred = model.predict(x_test)\n",
    "print(np.sqrt(mean_squared_error(y_test,nn_y_pred)))\n",
    "\n"
   ]
  },
  {
   "cell_type": "code",
   "execution_count": 104,
   "metadata": {},
   "outputs": [
    {
     "name": "stdout",
     "output_type": "stream",
     "text": [
      "-2.3608434819317043\n",
      "54/54 [==============================] - 0s 596us/step - loss: -13.5598 - mean_squared_error: 0.5858\n",
      "Loss:  -13.559815406799316\n",
      "Accuracy:  0.5858457684516907\n"
     ]
    }
   ],
   "source": [
    "print(r2_score(y_test, nn_y_pred))\n",
    "metrics= model.evaluate(x_test, y_test)\n",
    "print('Loss: ', metrics[0])\n",
    "print('Accuracy: ', metrics[1])"
   ]
  },
  {
   "cell_type": "code",
   "execution_count": null,
   "metadata": {},
   "outputs": [],
   "source": [
    "# Keras are very powerfull in terms of the accuracy and the final results "
   ]
  },
  {
   "cell_type": "code",
   "execution_count": null,
   "metadata": {},
   "outputs": [],
   "source": [
    "#Result summary of all models "
   ]
  },
  {
   "cell_type": "markdown",
   "metadata": {},
   "source": [
    "# MLP CLASSIFIER  "
   ]
  },
  {
   "cell_type": "code",
   "execution_count": null,
   "metadata": {},
   "outputs": [],
   "source": [
    "# https://medium.com/data-science-bootcamp/multilayer-perceptron-mlp-vs-convolutional-neural-network-in-deep-learning-c890f487a8f1"
   ]
  },
  {
   "cell_type": "code",
   "execution_count": null,
   "metadata": {},
   "outputs": [],
   "source": [
    "# Multi Layered Perceptron- powerfull Neural Network with best accuracy"
   ]
  },
  {
   "cell_type": "code",
   "execution_count": 133,
   "metadata": {},
   "outputs": [
    {
     "name": "stdout",
     "output_type": "stream",
     "text": [
      "              precision    recall  f1-score   support\n",
      "\n",
      "         Bad       0.33      0.19      0.24        58\n",
      "        Good       0.51      0.35      0.41        66\n",
      "      Medium       0.95      0.97      0.96      1591\n",
      "\n",
      "    accuracy                           0.92      1715\n",
      "   macro avg       0.60      0.50      0.54      1715\n",
      "weighted avg       0.91      0.92      0.91      1715\n",
      "\n"
     ]
    }
   ],
   "source": [
    "from sklearn.neural_network import MLPClassifier\n",
    "nn_class = MLPClassifier(hidden_layer_sizes=(150,100,50),max_iter=1000,activation = 'tanh',solver='adam')\n",
    "nn_class.fit(x1_train, y1_train)\n",
    "mlp_y_pred = nn_class.predict(x1_test)\n",
    "y_pred = nn_class.predict(x1_test)\n",
    "print(classification_report(y1_test, mlp_y_pred))\n"
   ]
  },
  {
   "cell_type": "code",
   "execution_count": 134,
   "metadata": {},
   "outputs": [
    {
     "name": "stdout",
     "output_type": "stream",
     "text": [
      "Accuaracy: 0.921865889212828\n"
     ]
    }
   ],
   "source": [
    "print(\"Accuaracy:\",accuracy_score(y1_test, mlp_y_pred))"
   ]
  },
  {
   "cell_type": "code",
   "execution_count": 107,
   "metadata": {},
   "outputs": [
    {
     "name": "stdout",
     "output_type": "stream",
     "text": [
      "    0   1     2\n",
      "0  13   0    45\n",
      "1   1  18    47\n",
      "2  23  18  1550\n"
     ]
    },
    {
     "data": {
      "image/png": "[encoded data removed]",
      "text/plain": [
       "<Figure size 432x288 with 1 Axes>"
      ]
     },
     "metadata": {
      "needs_background": "light"
     },
     "output_type": "display_data"
    }
   ],
   "source": [
    "cm = pd.DataFrame(confusion_matrix(y1_test,mlp_y_pred))\n",
    "print(cm)\n",
    "\n",
    "sns.heatmap(cm,cbar=False,annot=True,cmap='Blues',fmt=\"d\")\n",
    "plt.xlabel(\"mlp_y_pred\")\n",
    "plt.ylabel(\"y_test\")\n",
    "plt.title(\"Confusion Matrix: MLP Classifier\")\n",
    "plt.show()"
   ]
  },
  {
   "cell_type": "code",
   "execution_count": null,
   "metadata": {},
   "outputs": [],
   "source": []
  },
  {
   "cell_type": "code",
   "execution_count": 137,
   "metadata": {
    "scrolled": true
   },
   "outputs": [],
   "source": [
    "final = pd.DataFrame({'MODELS': [\"SVM-Linear Kernel\",\"NEURAL NETWORK\",\"RANDOM FOREST\",\"SVM-Rbf\",\"KNN\",\"LOGISTIC REGRESSION\",\"AdaBoost-Classification\",\"MLP-Classifier\"],\n",
    "'ACCURACY': [accuracy_score(y1_test,svm_linear_y_pred),metrics[1],accuracy_score(y1_test,pred_rfc),accuracy_score(y1_test,rbf_y_pred), accuracy_score(y1_test, kn_predict), accuracy_score(y1_test, lr_predict),accuracy_score(y1_test, y_pred_adboost),accuracy_score(y1_test, mlp_y_pred) ],\n",
    " 'KEY POINTS IN MODEL' :[ \"SVM linear kernal, with gamma 0.1\",\"NN with Sequential- Adam Optimizer\", \"With 250 Number of trees in forest\",\"Rbf Kernel with Gamma =0.1 \", \"On search- K value is 5 \",\"With LibLinear Solver\",\"With 50 Estimators at which boosting is terminated\",\"Adam Solver(150,100,50)Hidden layers\"  ]})\n"
   ]
  },
  {
   "cell_type": "code",
   "execution_count": 138,
   "metadata": {},
   "outputs": [
    {
     "data": {
      "text/html": [
       "<div>\n",
       "<style scoped>\n",
       "    .dataframe tbody tr th:only-of-type {\n",
       "        vertical-align: middle;\n",
       "    }\n",
       "\n",
       "    .dataframe tbody tr th {\n",
       "        vertical-align: top;\n",
       "    }\n",
       "\n",
       "    .dataframe thead th {\n",
       "        text-align: right;\n",
       "    }\n",
       "</style>\n",
       "<table border=\"1\" class=\"dataframe\">\n",
       "  <thead>\n",
       "    <tr style=\"text-align: right;\">\n",
       "      <th></th>\n",
       "      <th>MODELS</th>\n",
       "      <th>KEY POINTS IN MODEL</th>\n",
       "    </tr>\n",
       "    <tr>\n",
       "      <th>ACCURACY</th>\n",
       "      <th></th>\n",
       "      <th></th>\n",
       "    </tr>\n",
       "  </thead>\n",
       "  <tbody>\n",
       "    <tr>\n",
       "      <th>0.940525</th>\n",
       "      <td>RANDOM FOREST</td>\n",
       "      <td>With 250 Number of trees in forest</td>\n",
       "    </tr>\n",
       "    <tr>\n",
       "      <th>0.928280</th>\n",
       "      <td>KNN</td>\n",
       "      <td>On search- K value is 5</td>\n",
       "    </tr>\n",
       "    <tr>\n",
       "      <th>0.928280</th>\n",
       "      <td>LOGISTIC REGRESSION</td>\n",
       "      <td>With LibLinear Solver</td>\n",
       "    </tr>\n",
       "    <tr>\n",
       "      <th>0.921866</th>\n",
       "      <td>MLP-Classifier</td>\n",
       "      <td>Adam Solver(150,100,50)Hidden layers</td>\n",
       "    </tr>\n",
       "    <tr>\n",
       "      <th>0.876968</th>\n",
       "      <td>AdaBoost-Classification</td>\n",
       "      <td>With 50 Estimators at which boosting is termin...</td>\n",
       "    </tr>\n",
       "    <tr>\n",
       "      <th>0.688047</th>\n",
       "      <td>SVM-Rbf</td>\n",
       "      <td>Rbf Kernel with Gamma =0.1</td>\n",
       "    </tr>\n",
       "    <tr>\n",
       "      <th>0.585846</th>\n",
       "      <td>NEURAL NETWORK</td>\n",
       "      <td>NN with Sequential- Adam Optimizer</td>\n",
       "    </tr>\n",
       "    <tr>\n",
       "      <th>0.488047</th>\n",
       "      <td>SVM-Linear Kernel</td>\n",
       "      <td>SVM linear kernal, with gamma 0.1</td>\n",
       "    </tr>\n",
       "  </tbody>\n",
       "</table>\n",
       "</div>"
      ],
      "text/plain": [
       "                           MODELS  \\\n",
       "ACCURACY                            \n",
       "0.940525            RANDOM FOREST   \n",
       "0.928280                      KNN   \n",
       "0.928280      LOGISTIC REGRESSION   \n",
       "0.921866           MLP-Classifier   \n",
       "0.876968  AdaBoost-Classification   \n",
       "0.688047                  SVM-Rbf   \n",
       "0.585846           NEURAL NETWORK   \n",
       "0.488047        SVM-Linear Kernel   \n",
       "\n",
       "                                        KEY POINTS IN MODEL  \n",
       "ACCURACY                                                     \n",
       "0.940525                 With 250 Number of trees in forest  \n",
       "0.928280                           On search- K value is 5   \n",
       "0.928280                              With LibLinear Solver  \n",
       "0.921866               Adam Solver(150,100,50)Hidden layers  \n",
       "0.876968  With 50 Estimators at which boosting is termin...  \n",
       "0.688047                        Rbf Kernel with Gamma =0.1   \n",
       "0.585846                 NN with Sequential- Adam Optimizer  \n",
       "0.488047                  SVM linear kernal, with gamma 0.1  "
      ]
     },
     "execution_count": 138,
     "metadata": {},
     "output_type": "execute_result"
    }
   ],
   "source": [
    "# Each Model Strength and Weakness \n",
    "\n",
    "end= final.sort_values(by='ACCURACY', ascending=False)\n",
    "end_all = end.set_index('ACCURACY')\n",
    "end_all"
   ]
  },
  {
   "cell_type": "code",
   "execution_count": null,
   "metadata": {},
   "outputs": [],
   "source": [
    "# RANDOM FOREST WINS FINALLY AND BEST SUITABLE FOR THE CLASSIFICATION AND REGRESSION TASK WITH HIGHEST ACCURACY AND PREDICTION "
   ]
  },
  {
   "cell_type": "code",
   "execution_count": null,
   "metadata": {},
   "outputs": [],
   "source": [
    "# NEXT BEST MODELS ARE IN LINE WITH ( MLP, LOGISTIC REGRESSION, KNN )"
   ]
  },
  {
   "cell_type": "code",
   "execution_count": null,
   "metadata": {},
   "outputs": [],
   "source": [
    "# ADABOST NN IS COMPARTIVELY GOOD THAT NN -KERAS -SEQUENTIAL MODEL FOR  WHITE WINE DATASET"
   ]
  },
  {
   "cell_type": "code",
   "execution_count": null,
   "metadata": {},
   "outputs": [],
   "source": [
    "# SVM - LINEAR KERNLE IS LOWEST AND POOR PERFORMANCE"
   ]
  }
 ],
 "metadata": {
  "kernelspec": {
   "display_name": "Python 3",
   "language": "python",
   "name": "python3"
  },
  "language_info": {
   "codemirror_mode": {
    "name": "ipython",
    "version": 3
   },
   "file_extension": ".py",
   "mimetype": "text/x-python",
   "name": "python",
   "nbconvert_exporter": "python",
   "pygments_lexer": "ipython3",
   "version": "3.8.5"
  }
 },
 "nbformat": 4,
 "nbformat_minor": 4
}
